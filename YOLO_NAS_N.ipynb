{
  "nbformat": 4,
  "nbformat_minor": 0,
  "metadata": {
    "colab": {
      "provenance": [],
      "gpuType": "T4"
    },
    "kernelspec": {
      "name": "python3",
      "display_name": "Python 3"
    },
    "language_info": {
      "name": "python"
    },
    "accelerator": "GPU"
  },
  "cells": [
    {
      "cell_type": "code",
      "execution_count": 1,
      "metadata": {
        "collapsed": true,
        "id": "daoyuxFgDxDR",
        "colab": {
          "base_uri": "https://localhost:8080/"
        },
        "outputId": "92036dbc-9579-458e-f55e-d2b678f279a7"
      },
      "outputs": [
        {
          "output_type": "stream",
          "name": "stdout",
          "text": [
            "Requirement already satisfied: imutils in /usr/local/lib/python3.10/dist-packages (0.5.4)\n",
            "Requirement already satisfied: pytube in /usr/local/lib/python3.10/dist-packages (15.0.0)\n",
            "Requirement already satisfied: super_gradients in /usr/local/lib/python3.10/dist-packages (3.7.1)\n",
            "Requirement already satisfied: torch>=1.9.0 in /usr/local/lib/python3.10/dist-packages (from super_gradients) (2.2.1+cu121)\n",
            "Requirement already satisfied: tqdm>=4.57.0 in /usr/local/lib/python3.10/dist-packages (from super_gradients) (4.66.4)\n",
            "Requirement already satisfied: boto3>=1.17.15 in /usr/local/lib/python3.10/dist-packages (from super_gradients) (1.34.103)\n",
            "Requirement already satisfied: jsonschema>=3.2.0 in /usr/local/lib/python3.10/dist-packages (from super_gradients) (4.19.2)\n",
            "Requirement already satisfied: Deprecated>=1.2.11 in /usr/local/lib/python3.10/dist-packages (from super_gradients) (1.2.14)\n",
            "Requirement already satisfied: scipy>=1.6.1 in /usr/local/lib/python3.10/dist-packages (from super_gradients) (1.11.4)\n",
            "Requirement already satisfied: matplotlib>=3.3.4 in /usr/local/lib/python3.10/dist-packages (from super_gradients) (3.7.1)\n",
            "Requirement already satisfied: psutil>=5.8.0 in /usr/local/lib/python3.10/dist-packages (from super_gradients) (5.9.5)\n",
            "Requirement already satisfied: tensorboard>=2.4.1 in /usr/local/lib/python3.10/dist-packages (from super_gradients) (2.15.2)\n",
            "Requirement already satisfied: setuptools>=65.5.1 in /usr/local/lib/python3.10/dist-packages (from super_gradients) (67.7.2)\n",
            "Requirement already satisfied: coverage~=5.3.1 in /usr/local/lib/python3.10/dist-packages (from super_gradients) (5.3.1)\n",
            "Requirement already satisfied: torchvision>=0.10.0 in /usr/local/lib/python3.10/dist-packages (from super_gradients) (0.17.1+cu121)\n",
            "Requirement already satisfied: sphinx~=4.0.2 in /usr/local/lib/python3.10/dist-packages (from super_gradients) (4.0.3)\n",
            "Requirement already satisfied: sphinx-rtd-theme in /usr/local/lib/python3.10/dist-packages (from super_gradients) (1.3.0)\n",
            "Requirement already satisfied: torchmetrics==0.8 in /usr/local/lib/python3.10/dist-packages (from super_gradients) (0.8.0)\n",
            "Requirement already satisfied: hydra-core>=1.2.0 in /usr/local/lib/python3.10/dist-packages (from super_gradients) (1.3.2)\n",
            "Requirement already satisfied: omegaconf in /usr/local/lib/python3.10/dist-packages (from super_gradients) (2.3.0)\n",
            "Requirement already satisfied: onnxruntime==1.15.0 in /usr/local/lib/python3.10/dist-packages (from super_gradients) (1.15.0)\n",
            "Requirement already satisfied: onnx==1.15.0 in /usr/local/lib/python3.10/dist-packages (from super_gradients) (1.15.0)\n",
            "Requirement already satisfied: pillow>=10.2.0 in /usr/local/lib/python3.10/dist-packages (from super_gradients) (10.3.0)\n",
            "Requirement already satisfied: pip-tools>=6.12.1 in /usr/local/lib/python3.10/dist-packages (from super_gradients) (6.13.0)\n",
            "Requirement already satisfied: einops==0.3.2 in /usr/local/lib/python3.10/dist-packages (from super_gradients) (0.3.2)\n",
            "Requirement already satisfied: protobuf==3.20.3 in /usr/local/lib/python3.10/dist-packages (from super_gradients) (3.20.3)\n",
            "Requirement already satisfied: treelib==1.6.1 in /usr/local/lib/python3.10/dist-packages (from super_gradients) (1.6.1)\n",
            "Requirement already satisfied: termcolor==1.1.0 in /usr/local/lib/python3.10/dist-packages (from super_gradients) (1.1.0)\n",
            "Requirement already satisfied: packaging>=20.4 in /usr/local/lib/python3.10/dist-packages (from super_gradients) (24.0)\n",
            "Requirement already satisfied: wheel>=0.38.0 in /usr/local/lib/python3.10/dist-packages (from super_gradients) (0.43.0)\n",
            "Requirement already satisfied: pygments>=2.7.4 in /usr/local/lib/python3.10/dist-packages (from super_gradients) (2.16.1)\n",
            "Requirement already satisfied: stringcase>=1.2.0 in /usr/local/lib/python3.10/dist-packages (from super_gradients) (1.2.0)\n",
            "Requirement already satisfied: numpy<=1.23 in /usr/local/lib/python3.10/dist-packages (from super_gradients) (1.23.0)\n",
            "Requirement already satisfied: rapidfuzz in /usr/local/lib/python3.10/dist-packages (from super_gradients) (3.9.0)\n",
            "Requirement already satisfied: json-tricks==3.16.1 in /usr/local/lib/python3.10/dist-packages (from super_gradients) (3.16.1)\n",
            "Requirement already satisfied: onnxsim<1.0,>=0.4.3 in /usr/local/lib/python3.10/dist-packages (from super_gradients) (0.4.36)\n",
            "Requirement already satisfied: data-gradients~=0.3.1 in /usr/local/lib/python3.10/dist-packages (from super_gradients) (0.3.2)\n",
            "Requirement already satisfied: albumentations~=1.3 in /usr/local/lib/python3.10/dist-packages (from super_gradients) (1.3.1)\n",
            "Requirement already satisfied: fonttools>=4.43.0 in /usr/local/lib/python3.10/dist-packages (from super_gradients) (4.51.0)\n",
            "Requirement already satisfied: werkzeug>=2.3.8 in /usr/local/lib/python3.10/dist-packages (from super_gradients) (3.0.3)\n",
            "Requirement already satisfied: coloredlogs in /usr/local/lib/python3.10/dist-packages (from onnxruntime==1.15.0->super_gradients) (15.0.1)\n",
            "Requirement already satisfied: flatbuffers in /usr/local/lib/python3.10/dist-packages (from onnxruntime==1.15.0->super_gradients) (24.3.25)\n",
            "Requirement already satisfied: sympy in /usr/local/lib/python3.10/dist-packages (from onnxruntime==1.15.0->super_gradients) (1.12)\n",
            "Requirement already satisfied: pyDeprecate==0.3.* in /usr/local/lib/python3.10/dist-packages (from torchmetrics==0.8->super_gradients) (0.3.2)\n",
            "Requirement already satisfied: future in /usr/local/lib/python3.10/dist-packages (from treelib==1.6.1->super_gradients) (0.18.3)\n",
            "Requirement already satisfied: scikit-image>=0.16.1 in /usr/local/lib/python3.10/dist-packages (from albumentations~=1.3->super_gradients) (0.19.3)\n",
            "Requirement already satisfied: PyYAML in /usr/local/lib/python3.10/dist-packages (from albumentations~=1.3->super_gradients) (6.0.1)\n",
            "Requirement already satisfied: qudida>=0.0.4 in /usr/local/lib/python3.10/dist-packages (from albumentations~=1.3->super_gradients) (0.0.4)\n",
            "Requirement already satisfied: opencv-python-headless>=4.1.1 in /usr/local/lib/python3.10/dist-packages (from albumentations~=1.3->super_gradients) (4.8.0.74)\n",
            "Requirement already satisfied: botocore<1.35.0,>=1.34.103 in /usr/local/lib/python3.10/dist-packages (from boto3>=1.17.15->super_gradients) (1.34.103)\n",
            "Requirement already satisfied: jmespath<2.0.0,>=0.7.1 in /usr/local/lib/python3.10/dist-packages (from boto3>=1.17.15->super_gradients) (1.0.1)\n",
            "Requirement already satisfied: s3transfer<0.11.0,>=0.10.0 in /usr/local/lib/python3.10/dist-packages (from boto3>=1.17.15->super_gradients) (0.10.1)\n",
            "Requirement already satisfied: platformdirs>=2.5.2 in /usr/local/lib/python3.10/dist-packages (from data-gradients~=0.3.1->super_gradients) (4.2.1)\n",
            "Requirement already satisfied: opencv-python in /usr/local/lib/python3.10/dist-packages (from data-gradients~=0.3.1->super_gradients) (4.8.0.76)\n",
            "Requirement already satisfied: seaborn in /usr/local/lib/python3.10/dist-packages (from data-gradients~=0.3.1->super_gradients) (0.13.1)\n",
            "Requirement already satisfied: xhtml2pdf==0.2.11 in /usr/local/lib/python3.10/dist-packages (from data-gradients~=0.3.1->super_gradients) (0.2.11)\n",
            "Requirement already satisfied: jinja2 in /usr/local/lib/python3.10/dist-packages (from data-gradients~=0.3.1->super_gradients) (3.1.4)\n",
            "Requirement already satisfied: imagededup in /usr/local/lib/python3.10/dist-packages (from data-gradients~=0.3.1->super_gradients) (0.3.2)\n",
            "Requirement already satisfied: arabic-reshaper>=3.0.0 in /usr/local/lib/python3.10/dist-packages (from xhtml2pdf==0.2.11->data-gradients~=0.3.1->super_gradients) (3.0.0)\n",
            "Requirement already satisfied: html5lib>=1.0.1 in /usr/local/lib/python3.10/dist-packages (from xhtml2pdf==0.2.11->data-gradients~=0.3.1->super_gradients) (1.1)\n",
            "Requirement already satisfied: pyHanko>=0.12.1 in /usr/local/lib/python3.10/dist-packages (from xhtml2pdf==0.2.11->data-gradients~=0.3.1->super_gradients) (0.25.0)\n",
            "Requirement already satisfied: pyhanko-certvalidator>=0.19.5 in /usr/local/lib/python3.10/dist-packages (from xhtml2pdf==0.2.11->data-gradients~=0.3.1->super_gradients) (0.26.3)\n",
            "Requirement already satisfied: pypdf>=3.1.0 in /usr/local/lib/python3.10/dist-packages (from xhtml2pdf==0.2.11->data-gradients~=0.3.1->super_gradients) (4.2.0)\n",
            "Requirement already satisfied: python-bidi>=0.4.2 in /usr/local/lib/python3.10/dist-packages (from xhtml2pdf==0.2.11->data-gradients~=0.3.1->super_gradients) (0.4.2)\n",
            "Requirement already satisfied: reportlab<4,>=3.5.53 in /usr/local/lib/python3.10/dist-packages (from xhtml2pdf==0.2.11->data-gradients~=0.3.1->super_gradients) (3.6.13)\n",
            "Requirement already satisfied: svglib>=1.2.1 in /usr/local/lib/python3.10/dist-packages (from xhtml2pdf==0.2.11->data-gradients~=0.3.1->super_gradients) (1.5.1)\n",
            "Requirement already satisfied: wrapt<2,>=1.10 in /usr/local/lib/python3.10/dist-packages (from Deprecated>=1.2.11->super_gradients) (1.14.1)\n",
            "Requirement already satisfied: antlr4-python3-runtime==4.9.* in /usr/local/lib/python3.10/dist-packages (from hydra-core>=1.2.0->super_gradients) (4.9.3)\n",
            "Requirement already satisfied: attrs>=22.2.0 in /usr/local/lib/python3.10/dist-packages (from jsonschema>=3.2.0->super_gradients) (23.2.0)\n",
            "Requirement already satisfied: jsonschema-specifications>=2023.03.6 in /usr/local/lib/python3.10/dist-packages (from jsonschema>=3.2.0->super_gradients) (2023.12.1)\n",
            "Requirement already satisfied: referencing>=0.28.4 in /usr/local/lib/python3.10/dist-packages (from jsonschema>=3.2.0->super_gradients) (0.35.1)\n",
            "Requirement already satisfied: rpds-py>=0.7.1 in /usr/local/lib/python3.10/dist-packages (from jsonschema>=3.2.0->super_gradients) (0.18.1)\n",
            "Requirement already satisfied: contourpy>=1.0.1 in /usr/local/lib/python3.10/dist-packages (from matplotlib>=3.3.4->super_gradients) (1.2.1)\n",
            "Requirement already satisfied: cycler>=0.10 in /usr/local/lib/python3.10/dist-packages (from matplotlib>=3.3.4->super_gradients) (0.10.0)\n",
            "Requirement already satisfied: kiwisolver>=1.0.1 in /usr/local/lib/python3.10/dist-packages (from matplotlib>=3.3.4->super_gradients) (1.4.5)\n",
            "Requirement already satisfied: pyparsing>=2.3.1 in /usr/local/lib/python3.10/dist-packages (from matplotlib>=3.3.4->super_gradients) (3.1.2)\n",
            "Requirement already satisfied: python-dateutil>=2.7 in /usr/local/lib/python3.10/dist-packages (from matplotlib>=3.3.4->super_gradients) (2.8.2)\n",
            "Requirement already satisfied: rich in /usr/local/lib/python3.10/dist-packages (from onnxsim<1.0,>=0.4.3->super_gradients) (13.7.1)\n",
            "Requirement already satisfied: build in /usr/local/lib/python3.10/dist-packages (from pip-tools>=6.12.1->super_gradients) (1.2.1)\n",
            "Requirement already satisfied: click>=8 in /usr/local/lib/python3.10/dist-packages (from pip-tools>=6.12.1->super_gradients) (8.1.7)\n",
            "Requirement already satisfied: pip>=22.2 in /usr/local/lib/python3.10/dist-packages (from pip-tools>=6.12.1->super_gradients) (23.1.2)\n",
            "Requirement already satisfied: sphinxcontrib-applehelp in /usr/local/lib/python3.10/dist-packages (from sphinx~=4.0.2->super_gradients) (1.0.8)\n",
            "Requirement already satisfied: sphinxcontrib-devhelp in /usr/local/lib/python3.10/dist-packages (from sphinx~=4.0.2->super_gradients) (1.0.6)\n",
            "Requirement already satisfied: sphinxcontrib-jsmath in /usr/local/lib/python3.10/dist-packages (from sphinx~=4.0.2->super_gradients) (1.0.1)\n",
            "Requirement already satisfied: sphinxcontrib-htmlhelp in /usr/local/lib/python3.10/dist-packages (from sphinx~=4.0.2->super_gradients) (2.0.5)\n",
            "Requirement already satisfied: sphinxcontrib-serializinghtml in /usr/local/lib/python3.10/dist-packages (from sphinx~=4.0.2->super_gradients) (1.1.10)\n",
            "Requirement already satisfied: sphinxcontrib-qthelp in /usr/local/lib/python3.10/dist-packages (from sphinx~=4.0.2->super_gradients) (1.0.7)\n",
            "Requirement already satisfied: docutils<0.18,>=0.14 in /usr/local/lib/python3.10/dist-packages (from sphinx~=4.0.2->super_gradients) (0.17.1)\n",
            "Requirement already satisfied: snowballstemmer>=1.1 in /usr/local/lib/python3.10/dist-packages (from sphinx~=4.0.2->super_gradients) (2.2.0)\n",
            "Requirement already satisfied: babel>=1.3 in /usr/local/lib/python3.10/dist-packages (from sphinx~=4.0.2->super_gradients) (2.15.0)\n",
            "Requirement already satisfied: alabaster<0.8,>=0.7 in /usr/local/lib/python3.10/dist-packages (from sphinx~=4.0.2->super_gradients) (0.7.16)\n",
            "Requirement already satisfied: imagesize in /usr/local/lib/python3.10/dist-packages (from sphinx~=4.0.2->super_gradients) (1.4.1)\n",
            "Requirement already satisfied: requests>=2.5.0 in /usr/local/lib/python3.10/dist-packages (from sphinx~=4.0.2->super_gradients) (2.31.0)\n",
            "Requirement already satisfied: absl-py>=0.4 in /usr/local/lib/python3.10/dist-packages (from tensorboard>=2.4.1->super_gradients) (1.4.0)\n",
            "Requirement already satisfied: grpcio>=1.48.2 in /usr/local/lib/python3.10/dist-packages (from tensorboard>=2.4.1->super_gradients) (1.63.0)\n",
            "Requirement already satisfied: google-auth<3,>=1.6.3 in /usr/local/lib/python3.10/dist-packages (from tensorboard>=2.4.1->super_gradients) (2.27.0)\n",
            "Requirement already satisfied: google-auth-oauthlib<2,>=0.5 in /usr/local/lib/python3.10/dist-packages (from tensorboard>=2.4.1->super_gradients) (1.2.0)\n",
            "Requirement already satisfied: markdown>=2.6.8 in /usr/local/lib/python3.10/dist-packages (from tensorboard>=2.4.1->super_gradients) (3.6)\n",
            "Requirement already satisfied: six>1.9 in /usr/local/lib/python3.10/dist-packages (from tensorboard>=2.4.1->super_gradients) (1.16.0)\n",
            "Requirement already satisfied: tensorboard-data-server<0.8.0,>=0.7.0 in /usr/local/lib/python3.10/dist-packages (from tensorboard>=2.4.1->super_gradients) (0.7.2)\n",
            "Requirement already satisfied: filelock in /usr/local/lib/python3.10/dist-packages (from torch>=1.9.0->super_gradients) (3.14.0)\n",
            "Requirement already satisfied: typing-extensions>=4.8.0 in /usr/local/lib/python3.10/dist-packages (from torch>=1.9.0->super_gradients) (4.11.0)\n",
            "Requirement already satisfied: networkx in /usr/local/lib/python3.10/dist-packages (from torch>=1.9.0->super_gradients) (3.3)\n",
            "Requirement already satisfied: fsspec in /usr/local/lib/python3.10/dist-packages (from torch>=1.9.0->super_gradients) (2023.6.0)\n",
            "Requirement already satisfied: nvidia-cuda-nvrtc-cu12==12.1.105 in /usr/local/lib/python3.10/dist-packages (from torch>=1.9.0->super_gradients) (12.1.105)\n",
            "Requirement already satisfied: nvidia-cuda-runtime-cu12==12.1.105 in /usr/local/lib/python3.10/dist-packages (from torch>=1.9.0->super_gradients) (12.1.105)\n",
            "Requirement already satisfied: nvidia-cuda-cupti-cu12==12.1.105 in /usr/local/lib/python3.10/dist-packages (from torch>=1.9.0->super_gradients) (12.1.105)\n",
            "Requirement already satisfied: nvidia-cudnn-cu12==8.9.2.26 in /usr/local/lib/python3.10/dist-packages (from torch>=1.9.0->super_gradients) (8.9.2.26)\n",
            "Requirement already satisfied: nvidia-cublas-cu12==12.1.3.1 in /usr/local/lib/python3.10/dist-packages (from torch>=1.9.0->super_gradients) (12.1.3.1)\n",
            "Requirement already satisfied: nvidia-cufft-cu12==11.0.2.54 in /usr/local/lib/python3.10/dist-packages (from torch>=1.9.0->super_gradients) (11.0.2.54)\n",
            "Requirement already satisfied: nvidia-curand-cu12==10.3.2.106 in /usr/local/lib/python3.10/dist-packages (from torch>=1.9.0->super_gradients) (10.3.2.106)\n",
            "Requirement already satisfied: nvidia-cusolver-cu12==11.4.5.107 in /usr/local/lib/python3.10/dist-packages (from torch>=1.9.0->super_gradients) (11.4.5.107)\n",
            "Requirement already satisfied: nvidia-cusparse-cu12==12.1.0.106 in /usr/local/lib/python3.10/dist-packages (from torch>=1.9.0->super_gradients) (12.1.0.106)\n",
            "Requirement already satisfied: nvidia-nccl-cu12==2.19.3 in /usr/local/lib/python3.10/dist-packages (from torch>=1.9.0->super_gradients) (2.19.3)\n",
            "Requirement already satisfied: nvidia-nvtx-cu12==12.1.105 in /usr/local/lib/python3.10/dist-packages (from torch>=1.9.0->super_gradients) (12.1.105)\n",
            "Requirement already satisfied: triton==2.2.0 in /usr/local/lib/python3.10/dist-packages (from torch>=1.9.0->super_gradients) (2.2.0)\n",
            "Requirement already satisfied: nvidia-nvjitlink-cu12 in /usr/local/lib/python3.10/dist-packages (from nvidia-cusolver-cu12==11.4.5.107->torch>=1.9.0->super_gradients) (12.4.127)\n",
            "Requirement already satisfied: MarkupSafe>=2.1.1 in /usr/local/lib/python3.10/dist-packages (from werkzeug>=2.3.8->super_gradients) (2.1.5)\n",
            "Requirement already satisfied: sphinxcontrib-jquery<5,>=4 in /usr/local/lib/python3.10/dist-packages (from sphinx-rtd-theme->super_gradients) (4.1)\n",
            "Requirement already satisfied: urllib3!=2.2.0,<3,>=1.25.4 in /usr/local/lib/python3.10/dist-packages (from botocore<1.35.0,>=1.34.103->boto3>=1.17.15->super_gradients) (2.0.7)\n",
            "Requirement already satisfied: cachetools<6.0,>=2.0.0 in /usr/local/lib/python3.10/dist-packages (from google-auth<3,>=1.6.3->tensorboard>=2.4.1->super_gradients) (5.3.3)\n",
            "Requirement already satisfied: pyasn1-modules>=0.2.1 in /usr/local/lib/python3.10/dist-packages (from google-auth<3,>=1.6.3->tensorboard>=2.4.1->super_gradients) (0.4.0)\n",
            "Requirement already satisfied: rsa<5,>=3.1.4 in /usr/local/lib/python3.10/dist-packages (from google-auth<3,>=1.6.3->tensorboard>=2.4.1->super_gradients) (4.9)\n",
            "Requirement already satisfied: requests-oauthlib>=0.7.0 in /usr/local/lib/python3.10/dist-packages (from google-auth-oauthlib<2,>=0.5->tensorboard>=2.4.1->super_gradients) (1.3.1)\n",
            "Requirement already satisfied: scikit-learn>=0.19.1 in /usr/local/lib/python3.10/dist-packages (from qudida>=0.0.4->albumentations~=1.3->super_gradients) (1.2.2)\n",
            "Requirement already satisfied: charset-normalizer<4,>=2 in /usr/local/lib/python3.10/dist-packages (from requests>=2.5.0->sphinx~=4.0.2->super_gradients) (3.3.2)\n",
            "Requirement already satisfied: idna<4,>=2.5 in /usr/local/lib/python3.10/dist-packages (from requests>=2.5.0->sphinx~=4.0.2->super_gradients) (2.10)\n",
            "Requirement already satisfied: certifi>=2017.4.17 in /usr/local/lib/python3.10/dist-packages (from requests>=2.5.0->sphinx~=4.0.2->super_gradients) (2023.7.22)\n",
            "Requirement already satisfied: imageio>=2.4.1 in /usr/local/lib/python3.10/dist-packages (from scikit-image>=0.16.1->albumentations~=1.3->super_gradients) (2.34.1)\n",
            "Requirement already satisfied: tifffile>=2019.7.26 in /usr/local/lib/python3.10/dist-packages (from scikit-image>=0.16.1->albumentations~=1.3->super_gradients) (2024.5.3)\n",
            "Requirement already satisfied: PyWavelets>=1.1.1 in /usr/local/lib/python3.10/dist-packages (from scikit-image>=0.16.1->albumentations~=1.3->super_gradients) (1.6.0)\n",
            "Requirement already satisfied: pyproject_hooks in /usr/local/lib/python3.10/dist-packages (from build->pip-tools>=6.12.1->super_gradients) (1.1.0)\n",
            "Requirement already satisfied: tomli>=1.1.0 in /usr/local/lib/python3.10/dist-packages (from build->pip-tools>=6.12.1->super_gradients) (2.0.1)\n",
            "Requirement already satisfied: humanfriendly>=9.1 in /usr/local/lib/python3.10/dist-packages (from coloredlogs->onnxruntime==1.15.0->super_gradients) (10.0)\n",
            "Requirement already satisfied: markdown-it-py>=2.2.0 in /usr/local/lib/python3.10/dist-packages (from rich->onnxsim<1.0,>=0.4.3->super_gradients) (3.0.0)\n",
            "Requirement already satisfied: pandas>=1.2 in /usr/local/lib/python3.10/dist-packages (from seaborn->data-gradients~=0.3.1->super_gradients) (2.0.3)\n",
            "Requirement already satisfied: mpmath>=0.19 in /usr/local/lib/python3.10/dist-packages (from sympy->onnxruntime==1.15.0->super_gradients) (1.3.0)\n",
            "Requirement already satisfied: webencodings in /usr/local/lib/python3.10/dist-packages (from html5lib>=1.0.1->xhtml2pdf==0.2.11->data-gradients~=0.3.1->super_gradients) (0.5.1)\n",
            "Requirement already satisfied: mdurl~=0.1 in /usr/local/lib/python3.10/dist-packages (from markdown-it-py>=2.2.0->rich->onnxsim<1.0,>=0.4.3->super_gradients) (0.1.2)\n",
            "Requirement already satisfied: pytz>=2020.1 in /usr/local/lib/python3.10/dist-packages (from pandas>=1.2->seaborn->data-gradients~=0.3.1->super_gradients) (2023.4)\n",
            "Requirement already satisfied: tzdata>=2022.1 in /usr/local/lib/python3.10/dist-packages (from pandas>=1.2->seaborn->data-gradients~=0.3.1->super_gradients) (2024.1)\n",
            "Requirement already satisfied: pyasn1<0.7.0,>=0.4.6 in /usr/local/lib/python3.10/dist-packages (from pyasn1-modules>=0.2.1->google-auth<3,>=1.6.3->tensorboard>=2.4.1->super_gradients) (0.6.0)\n",
            "Requirement already satisfied: asn1crypto>=1.5.1 in /usr/local/lib/python3.10/dist-packages (from pyHanko>=0.12.1->xhtml2pdf==0.2.11->data-gradients~=0.3.1->super_gradients) (1.5.1)\n",
            "Requirement already satisfied: qrcode>=7.3.1 in /usr/local/lib/python3.10/dist-packages (from pyHanko>=0.12.1->xhtml2pdf==0.2.11->data-gradients~=0.3.1->super_gradients) (7.4.2)\n",
            "Requirement already satisfied: tzlocal>=4.3 in /usr/local/lib/python3.10/dist-packages (from pyHanko>=0.12.1->xhtml2pdf==0.2.11->data-gradients~=0.3.1->super_gradients) (5.2)\n",
            "Requirement already satisfied: cryptography>=42.0.1 in /usr/local/lib/python3.10/dist-packages (from pyHanko>=0.12.1->xhtml2pdf==0.2.11->data-gradients~=0.3.1->super_gradients) (42.0.7)\n",
            "Requirement already satisfied: oscrypto>=1.1.0 in /usr/local/lib/python3.10/dist-packages (from pyhanko-certvalidator>=0.19.5->xhtml2pdf==0.2.11->data-gradients~=0.3.1->super_gradients) (1.3.0)\n",
            "Requirement already satisfied: uritools>=3.0.1 in /usr/local/lib/python3.10/dist-packages (from pyhanko-certvalidator>=0.19.5->xhtml2pdf==0.2.11->data-gradients~=0.3.1->super_gradients) (4.0.2)\n",
            "Requirement already satisfied: oauthlib>=3.0.0 in /usr/local/lib/python3.10/dist-packages (from requests-oauthlib>=0.7.0->google-auth-oauthlib<2,>=0.5->tensorboard>=2.4.1->super_gradients) (3.2.2)\n",
            "Requirement already satisfied: joblib>=1.1.1 in /usr/local/lib/python3.10/dist-packages (from scikit-learn>=0.19.1->qudida>=0.0.4->albumentations~=1.3->super_gradients) (1.4.2)\n",
            "Requirement already satisfied: threadpoolctl>=2.0.0 in /usr/local/lib/python3.10/dist-packages (from scikit-learn>=0.19.1->qudida>=0.0.4->albumentations~=1.3->super_gradients) (3.5.0)\n",
            "Requirement already satisfied: lxml in /usr/local/lib/python3.10/dist-packages (from svglib>=1.2.1->xhtml2pdf==0.2.11->data-gradients~=0.3.1->super_gradients) (4.9.4)\n",
            "Requirement already satisfied: tinycss2>=0.6.0 in /usr/local/lib/python3.10/dist-packages (from svglib>=1.2.1->xhtml2pdf==0.2.11->data-gradients~=0.3.1->super_gradients) (1.3.0)\n",
            "Requirement already satisfied: cssselect2>=0.2.0 in /usr/local/lib/python3.10/dist-packages (from svglib>=1.2.1->xhtml2pdf==0.2.11->data-gradients~=0.3.1->super_gradients) (0.7.0)\n",
            "Requirement already satisfied: cffi>=1.12 in /usr/local/lib/python3.10/dist-packages (from cryptography>=42.0.1->pyHanko>=0.12.1->xhtml2pdf==0.2.11->data-gradients~=0.3.1->super_gradients) (1.16.0)\n",
            "Requirement already satisfied: pypng in /usr/local/lib/python3.10/dist-packages (from qrcode>=7.3.1->pyHanko>=0.12.1->xhtml2pdf==0.2.11->data-gradients~=0.3.1->super_gradients) (0.20220715.0)\n",
            "Requirement already satisfied: pycparser in /usr/local/lib/python3.10/dist-packages (from cffi>=1.12->cryptography>=42.0.1->pyHanko>=0.12.1->xhtml2pdf==0.2.11->data-gradients~=0.3.1->super_gradients) (2.22)\n",
            "Requirement already satisfied: roboflow in /usr/local/lib/python3.10/dist-packages (1.1.28)\n",
            "Requirement already satisfied: certifi==2023.7.22 in /usr/local/lib/python3.10/dist-packages (from roboflow) (2023.7.22)\n",
            "Requirement already satisfied: chardet==4.0.0 in /usr/local/lib/python3.10/dist-packages (from roboflow) (4.0.0)\n",
            "Requirement already satisfied: cycler==0.10.0 in /usr/local/lib/python3.10/dist-packages (from roboflow) (0.10.0)\n",
            "Requirement already satisfied: idna==2.10 in /usr/local/lib/python3.10/dist-packages (from roboflow) (2.10)\n",
            "Requirement already satisfied: kiwisolver>=1.3.1 in /usr/local/lib/python3.10/dist-packages (from roboflow) (1.4.5)\n",
            "Requirement already satisfied: matplotlib in /usr/local/lib/python3.10/dist-packages (from roboflow) (3.7.1)\n",
            "Requirement already satisfied: numpy>=1.18.5 in /usr/local/lib/python3.10/dist-packages (from roboflow) (1.23.0)\n",
            "Requirement already satisfied: opencv-python-headless==4.8.0.74 in /usr/local/lib/python3.10/dist-packages (from roboflow) (4.8.0.74)\n",
            "Requirement already satisfied: Pillow>=7.1.2 in /usr/local/lib/python3.10/dist-packages (from roboflow) (10.3.0)\n",
            "Requirement already satisfied: python-dateutil in /usr/local/lib/python3.10/dist-packages (from roboflow) (2.8.2)\n",
            "Requirement already satisfied: python-dotenv in /usr/local/lib/python3.10/dist-packages (from roboflow) (1.0.1)\n",
            "Requirement already satisfied: requests in /usr/local/lib/python3.10/dist-packages (from roboflow) (2.31.0)\n",
            "Requirement already satisfied: six in /usr/local/lib/python3.10/dist-packages (from roboflow) (1.16.0)\n",
            "Requirement already satisfied: urllib3>=1.26.6 in /usr/local/lib/python3.10/dist-packages (from roboflow) (2.0.7)\n",
            "Requirement already satisfied: tqdm>=4.41.0 in /usr/local/lib/python3.10/dist-packages (from roboflow) (4.66.4)\n",
            "Requirement already satisfied: PyYAML>=5.3.1 in /usr/local/lib/python3.10/dist-packages (from roboflow) (6.0.1)\n",
            "Requirement already satisfied: requests-toolbelt in /usr/local/lib/python3.10/dist-packages (from roboflow) (1.0.0)\n",
            "Requirement already satisfied: python-magic in /usr/local/lib/python3.10/dist-packages (from roboflow) (0.4.27)\n",
            "Requirement already satisfied: contourpy>=1.0.1 in /usr/local/lib/python3.10/dist-packages (from matplotlib->roboflow) (1.2.1)\n",
            "Requirement already satisfied: fonttools>=4.22.0 in /usr/local/lib/python3.10/dist-packages (from matplotlib->roboflow) (4.51.0)\n",
            "Requirement already satisfied: packaging>=20.0 in /usr/local/lib/python3.10/dist-packages (from matplotlib->roboflow) (24.0)\n",
            "Requirement already satisfied: pyparsing>=2.3.1 in /usr/local/lib/python3.10/dist-packages (from matplotlib->roboflow) (3.1.2)\n",
            "Requirement already satisfied: charset-normalizer<4,>=2 in /usr/local/lib/python3.10/dist-packages (from requests->roboflow) (3.3.2)\n",
            "Requirement already satisfied: clearml in /usr/local/lib/python3.10/dist-packages (1.15.1)\n",
            "Requirement already satisfied: attrs>=18.0 in /usr/local/lib/python3.10/dist-packages (from clearml) (23.2.0)\n",
            "Requirement already satisfied: furl>=2.0.0 in /usr/local/lib/python3.10/dist-packages (from clearml) (2.1.3)\n",
            "Requirement already satisfied: jsonschema>=2.6.0 in /usr/local/lib/python3.10/dist-packages (from clearml) (4.19.2)\n",
            "Requirement already satisfied: numpy>=1.10 in /usr/local/lib/python3.10/dist-packages (from clearml) (1.23.0)\n",
            "Requirement already satisfied: pathlib2>=2.3.0 in /usr/local/lib/python3.10/dist-packages (from clearml) (2.3.7.post1)\n",
            "Requirement already satisfied: Pillow>=4.1.1 in /usr/local/lib/python3.10/dist-packages (from clearml) (10.3.0)\n",
            "Requirement already satisfied: psutil>=3.4.2 in /usr/local/lib/python3.10/dist-packages (from clearml) (5.9.5)\n",
            "Requirement already satisfied: pyparsing>=2.0.3 in /usr/local/lib/python3.10/dist-packages (from clearml) (3.1.2)\n",
            "Requirement already satisfied: python-dateutil>=2.6.1 in /usr/local/lib/python3.10/dist-packages (from clearml) (2.8.2)\n",
            "Requirement already satisfied: PyYAML>=3.12 in /usr/local/lib/python3.10/dist-packages (from clearml) (6.0.1)\n",
            "Requirement already satisfied: requests>=2.20.0 in /usr/local/lib/python3.10/dist-packages (from clearml) (2.31.0)\n",
            "Requirement already satisfied: six>=1.13.0 in /usr/local/lib/python3.10/dist-packages (from clearml) (1.16.0)\n",
            "Requirement already satisfied: urllib3>=1.21.1 in /usr/local/lib/python3.10/dist-packages (from clearml) (2.0.7)\n",
            "Requirement already satisfied: pyjwt<2.9.0,>=2.4.0 in /usr/local/lib/python3.10/dist-packages (from clearml) (2.8.0)\n",
            "Requirement already satisfied: referencing<0.40 in /usr/local/lib/python3.10/dist-packages (from clearml) (0.35.1)\n",
            "Requirement already satisfied: orderedmultidict>=1.0.1 in /usr/local/lib/python3.10/dist-packages (from furl>=2.0.0->clearml) (1.0.1)\n",
            "Requirement already satisfied: jsonschema-specifications>=2023.03.6 in /usr/local/lib/python3.10/dist-packages (from jsonschema>=2.6.0->clearml) (2023.12.1)\n",
            "Requirement already satisfied: rpds-py>=0.7.1 in /usr/local/lib/python3.10/dist-packages (from jsonschema>=2.6.0->clearml) (0.18.1)\n",
            "Requirement already satisfied: charset-normalizer<4,>=2 in /usr/local/lib/python3.10/dist-packages (from requests>=2.20.0->clearml) (3.3.2)\n",
            "Requirement already satisfied: idna<4,>=2.5 in /usr/local/lib/python3.10/dist-packages (from requests>=2.20.0->clearml) (2.10)\n",
            "Requirement already satisfied: certifi>=2017.4.17 in /usr/local/lib/python3.10/dist-packages (from requests>=2.20.0->clearml) (2023.7.22)\n"
          ]
        }
      ],
      "source": [
        "!pip install imutils\n",
        "!pip install pytube --upgrade\n",
        "!pip install super_gradients\n",
        "!pip install roboflow\n",
        "\n",
        "%pip install clearml"
      ]
    },
    {
      "cell_type": "code",
      "source": [
        "import os\n",
        "from super_gradients.training import Trainer\n",
        "from super_gradients.training import dataloaders\n",
        "from super_gradients.training.dataloaders.dataloaders import coco_detection_yolo_format_train , coco_detection_yolo_format_val\n",
        "from IPython.display import clear_output\n",
        "from super_gradients.training.losses import PPYoloELoss\n",
        "from super_gradients.training.metrics import DetectionMetrics_050\n",
        "from super_gradients.training.models.detection_models.pp_yolo_e import PPYoloEPostPredictionCallback\n",
        "from super_gradients.training import models"
      ],
      "metadata": {
        "collapsed": true,
        "id": "o3p-GohvD7Qj",
        "colab": {
          "base_uri": "https://localhost:8080/"
        },
        "outputId": "7aff88f2-0cc5-4e0c-b9d9-cab8898e47bb"
      },
      "execution_count": 2,
      "outputs": [
        {
          "output_type": "stream",
          "name": "stdout",
          "text": [
            "The console stream is logged into /root/sg_logs/console.log\n"
          ]
        },
        {
          "output_type": "stream",
          "name": "stderr",
          "text": [
            "[2024-05-12 20:23:44] INFO - crash_tips_setup.py - Crash tips is enabled. You can set your environment variable to CRASH_HANDLER=FALSE to disable it\n",
            "[2024-05-12 20:23:53] INFO - utils.py - NumExpr defaulting to 2 threads.\n"
          ]
        }
      ]
    },
    {
      "cell_type": "code",
      "source": [
        "CHECKPOINT_DIR = 'checkpoints2';\n",
        "trainer = Trainer(experiment_name = 'human_in_thermal_run2' , ckpt_root_dir = CHECKPOINT_DIR)"
      ],
      "metadata": {
        "id": "WJSa28FJD8ro"
      },
      "execution_count": 3,
      "outputs": []
    },
    {
      "cell_type": "code",
      "source": [
        "from roboflow import Roboflow\n",
        "rf = Roboflow(api_key=\"8alt1kWsWIlo930A0quA\")\n",
        "project = rf.workspace(\"chirag-otenn\").project(\"human-detection-in-thermal\")\n",
        "version = project.version(1)\n",
        "dataset = version.download(\"yolov5\")"
      ],
      "metadata": {
        "collapsed": true,
        "id": "bly0QQ7nEo48",
        "colab": {
          "base_uri": "https://localhost:8080/"
        },
        "outputId": "2e661acc-05de-4da3-ee95-71f810d16adb"
      },
      "execution_count": 4,
      "outputs": [
        {
          "output_type": "stream",
          "name": "stdout",
          "text": [
            "loading Roboflow workspace...\n",
            "loading Roboflow project...\n"
          ]
        }
      ]
    },
    {
      "cell_type": "code",
      "source": [
        "\n",
        "%env CLEARML_WEB_HOST=https://app.clear.ml\n",
        "%env CLEARML_API_HOST=https://api.clear.ml\n",
        "%env CLEARML_FILES_HOST=https://files.clear.ml\n",
        "%env CLEARML_API_ACCESS_KEY=0BEQ9KSY152LX8NWYP2N\n",
        "%env CLEARML_API_SECRET_KEY=JP9MPH219us6fWfecSbjvRD6jVGaXkk7odJKXUclrkES8TjjBM"
      ],
      "metadata": {
        "id": "RJi3uZ6QUSSJ"
      },
      "execution_count": 5,
      "outputs": []
    },
    {
      "cell_type": "code",
      "source": [
        "from clearml import Task\n",
        "task = Task.init(project_name='Human_Detection_Thermal_Images', task_name='Yolo_NAS_N')"
      ],
      "metadata": {
        "colab": {
          "base_uri": "https://localhost:8080/"
        },
        "id": "CdImJEGQUVP4",
        "outputId": "c3f5450f-0f96-47c6-a0a6-55c754d4ae28"
      },
      "execution_count": 6,
      "outputs": [
        {
          "output_type": "stream",
          "name": "stdout",
          "text": [
            "ClearML Task: created new task id=52c5f34d7d0945d892c318af855dee25\n",
            "ClearML results page: https://app.clear.ml/projects/dfc7076fbb8a4f4eb41470c5f03bd6e0/experiments/52c5f34d7d0945d892c318af855dee25/output/log\n"
          ]
        },
        {
          "output_type": "stream",
          "name": "stderr",
          "text": [
            "/usr/local/lib/python3.10/dist-packages/clearml/utilities/process/mp.py:622: RuntimeWarning:\n",
            "\n",
            "os.fork() was called. os.fork() is incompatible with multithreaded code, and JAX is multithreaded, so this will likely lead to a deadlock.\n",
            "\n"
          ]
        }
      ]
    },
    {
      "cell_type": "code",
      "source": [
        "dataset_params = {\n",
        "    'data_dir':'/content/Human-Detection-in-Thermal-1',\n",
        "    'train_images_dir':'train/images',\n",
        "    'train_labels_dir':'train/labels',\n",
        "    'val_images_dir':'valid/images',\n",
        "    'val_labels_dir':'valid/labels',\n",
        "    'test_images_dir':'test/images',\n",
        "    'test_labels_dir':'test/labels',\n",
        "    'classes':['Human']\n",
        "}"
      ],
      "metadata": {
        "id": "P4s5kM-sEqpq"
      },
      "execution_count": 7,
      "outputs": []
    },
    {
      "cell_type": "code",
      "source": [
        "train_data = coco_detection_yolo_format_train(\n",
        "    dataset_params={\n",
        "        'data_dir': str(dataset_params['data_dir']),\n",
        "        'images_dir': str(dataset_params['train_images_dir']),\n",
        "        'labels_dir': str(dataset_params['train_labels_dir']),\n",
        "        'classes': str(dataset_params['classes']),\n",
        "    },\n",
        "    dataloader_params={\n",
        "        'batch_size': 16,\n",
        "        'num_workers': 2\n",
        "    }\n",
        ")\n",
        "\n",
        "val_data = coco_detection_yolo_format_val(\n",
        "    dataset_params={\n",
        "        'data_dir': dataset_params['data_dir'],\n",
        "        'images_dir': dataset_params['val_images_dir'],\n",
        "        'labels_dir': dataset_params['val_labels_dir'],\n",
        "        'classes': dataset_params['classes']\n",
        "    },\n",
        "    dataloader_params={\n",
        "        'batch_size':16,\n",
        "        'num_workers':2\n",
        "    }\n",
        ")\n",
        "\n",
        "test_data = coco_detection_yolo_format_val(\n",
        "    dataset_params={\n",
        "        'data_dir': dataset_params['data_dir'],\n",
        "        'images_dir': dataset_params['test_images_dir'],\n",
        "        'labels_dir': dataset_params['test_labels_dir'],\n",
        "        'classes': dataset_params['classes']\n",
        "    },\n",
        "    dataloader_params={\n",
        "        'batch_size':16,\n",
        "        'num_workers':2\n",
        "    }\n",
        ")\n",
        "\n",
        "clear_output()\n"
      ],
      "metadata": {
        "id": "371nNA6UEsgy"
      },
      "execution_count": 8,
      "outputs": []
    },
    {
      "cell_type": "code",
      "source": [
        "model = models.get('yolo_nas_s', num_classes=len(dataset_params['classes']),\n",
        "                   pretrained_weights = \"coco\"\n",
        "                   )"
      ],
      "metadata": {
        "collapsed": true,
        "id": "eSYjQj4REuvR",
        "colab": {
          "base_uri": "https://localhost:8080/"
        },
        "outputId": "aa3f7c31-e743-40bb-a22b-9835344ef47b"
      },
      "execution_count": 9,
      "outputs": [
        {
          "output_type": "stream",
          "name": "stderr",
          "text": [
            "\rIndexing dataset annotations:  53%|█████▎    | 39/74 [00:00<00:00, 193.30it/s]\rIndexing dataset annotations: 100%|██████████| 74/74 [00:00<00:00, 285.75it/s]\n",
            "[2024-05-12 20:25:17] WARNING - checkpoint_utils.py - :warning: The pre-trained models provided by SuperGradients may have their own licenses or terms and conditions derived from the dataset used for pre-training.\n",
            " It is your responsibility to determine whether you have permission to use the models for your use case.\n",
            " The model you have requested was pre-trained on the coco dataset, published under the following terms: https://cocodataset.org/#termsofuse\n",
            "[2024-05-12 20:25:17] INFO - checkpoint_utils.py - License Notification: YOLO-NAS pre-trained weights are subjected to the specific license terms and conditions detailed in \n",
            "https://github.com/Deci-AI/super-gradients/blob/master/LICENSE.YOLONAS.md\n",
            "By downloading the pre-trained weight files you agree to comply with these terms.\n"
          ]
        },
        {
          "output_type": "stream",
          "name": "stdout",
          "text": [
            "2024-05-12 20:25:18,780 - clearml.model - INFO - Selected model id: 5c7dfded0e4345ba8b84046c08d9946e\n"
          ]
        },
        {
          "output_type": "stream",
          "name": "stderr",
          "text": [
            "[2024-05-12 20:25:21] INFO - checkpoint_utils.py - Successfully loaded pretrained weights for architecture yolo_nas_s\n"
          ]
        }
      ]
    },
    {
      "cell_type": "code",
      "source": [
        "train_params = {\n",
        "    'silent_mode': False,\n",
        "    \"average_best_models\":True,\n",
        "    \"warmup_mode\": \"linear_epoch_step\",\n",
        "    \"warmup_initial_lr\": 1e-6,\n",
        "    \"lr_warmup_epochs\": 3,\n",
        "    \"initial_lr\": 5e-4,\n",
        "    \"lr_mode\": \"cosine\",\n",
        "    \"cosine_final_lr_ratio\": 0.1,\n",
        "    \"optimizer\": \"Adam\",\n",
        "    \"optimizer_params\": {\"weight_decay\": 0.0001},\n",
        "    \"zero_weight_decay_on_bias_and_bn\": True,\n",
        "    \"ema\": True,\n",
        "    \"ema_params\": {\"decay\": 0.9, \"decay_type\": \"threshold\"},\n",
        "    \"max_epochs\": 16,\n",
        "    \"mixed_precision\": True,\n",
        "    \"loss\": PPYoloELoss(\n",
        "        use_static_assigner=False,\n",
        "        num_classes=len(dataset_params['classes']),\n",
        "        reg_max=16\n",
        "    ),\n",
        "    \"valid_metrics_list\": [\n",
        "        DetectionMetrics_050(\n",
        "            score_thres=0.1,\n",
        "            top_k_predictions=300,\n",
        "            num_cls=len(dataset_params['classes']),\n",
        "            normalize_targets=True,\n",
        "            post_prediction_callback=PPYoloEPostPredictionCallback(\n",
        "                score_threshold=0.01,\n",
        "                nms_top_k=1000,\n",
        "                max_predictions=300,\n",
        "                nms_threshold=0.7\n",
        "            )\n",
        "        )\n",
        "    ],\n",
        "    \"metric_to_watch\": 'mAP@0.50'\n",
        "}"
      ],
      "metadata": {
        "id": "4NFITRgxEwnf"
      },
      "execution_count": 10,
      "outputs": []
    },
    {
      "cell_type": "code",
      "source": [
        "trainer.train(model=model,\n",
        "              training_params=train_params,\n",
        "              train_loader=train_data,\n",
        "              valid_loader=val_data)"
      ],
      "metadata": {
        "collapsed": true,
        "id": "0DBPA4aZE3cM",
        "colab": {
          "base_uri": "https://localhost:8080/"
        },
        "outputId": "ea0c2444-3106-4fc9-9c31-f50918b4467f"
      },
      "execution_count": 11,
      "outputs": [
        {
          "output_type": "stream",
          "name": "stderr",
          "text": [
            "[2024-05-12 20:25:24] INFO - sg_trainer.py - Starting a new run with `run_id=RUN_20240512_202524_167757`\n",
            "[2024-05-12 20:25:24] INFO - sg_trainer.py - Checkpoints directory: checkpoints2/human_in_thermal_run2/RUN_20240512_202524_167757\n",
            "[2024-05-12 20:25:24] INFO - sg_trainer.py - Using EMA with params {'decay': 0.9, 'decay_type': 'threshold'}\n",
            "/usr/local/lib/python3.10/dist-packages/super_gradients/common/registry/registry.py:72: DeprecationWarning:\n",
            "\n",
            "Object name `linear_epoch_step` is now deprecated. Please replace it with `LinearEpochLRWarmup`.\n",
            "\n",
            "/usr/local/lib/python3.10/dist-packages/super_gradients/training/utils/optimizer_utils.py:108: DeprecationWarning:\n",
            "\n",
            "initialize_param_groups and update_param_groups usages are deprecated since 3.4.0, will be removed in 3.5.0 and have no effect. \n",
            " Assign different learning rates by passing a mapping of layer name prefixes to lr values through initial_lr training hyperparameter (i.e initial_lr={'backbone': 0.01, 'default':0.1})\n",
            "\n",
            "/usr/lib/python3.10/multiprocessing/popen_fork.py:66: RuntimeWarning:\n",
            "\n",
            "os.fork() was called. os.fork() is incompatible with multithreaded code, and JAX is multithreaded, so this will likely lead to a deadlock.\n",
            "\n"
          ]
        },
        {
          "output_type": "stream",
          "name": "stdout",
          "text": [
            "The console stream is now moved to checkpoints2/human_in_thermal_run2/RUN_20240512_202524_167757/console_May12_20_25_24.txt\n"
          ]
        },
        {
          "output_type": "stream",
          "name": "stderr",
          "text": [
            "[2024-05-12 20:25:33] INFO - sg_trainer_utils.py - TRAINING PARAMETERS:\n",
            "    - Mode:                         Single GPU\n",
            "    - Number of GPUs:               1          (1 available on the machine)\n",
            "    - Full dataset size:            1824       (len(train_set))\n",
            "    - Batch size per GPU:           16         (batch_size)\n",
            "    - Batch Accumulate:             1          (batch_accumulate)\n",
            "    - Total batch size:             16         (num_gpus * batch_size)\n",
            "    - Effective Batch size:         16         (num_gpus * batch_size * batch_accumulate)\n",
            "    - Iterations per epoch:         114        (len(train_loader))\n",
            "    - Gradient updates per epoch:   114        (len(train_loader) / batch_accumulate)\n",
            "    - Model: YoloNAS_S  (19.02M parameters, 19.02M optimized)\n",
            "    - Learning Rates and Weight Decays:\n",
            "      - default: (19.02M parameters). LR: 0.0005 (19.02M parameters) WD: 0.0, (42.13K parameters), WD: 0.0001, (18.98M parameters)\n",
            "\n",
            "[2024-05-12 20:25:33] INFO - sg_trainer.py - Started training for 16 epochs (0/15)\n",
            "\n",
            "Train epoch 0: 100%|██████████| 114/114 [02:52<00:00,  1.51s/it, PPYoloELoss/loss=3.72, PPYoloELoss/loss_cls=1.75, PPYoloELoss/loss_dfl=0.928, PPYoloELoss/loss_iou=1.04, gpu_mem=7.4]\n",
            "Validating: 100%|██████████| 9/9 [00:04<00:00,  1.94it/s]\n",
            "[2024-05-12 20:28:39] INFO - base_sg_logger.py - Checkpoint saved in checkpoints2/human_in_thermal_run2/RUN_20240512_202524_167757/ckpt_best.pth\n",
            "[2024-05-12 20:28:39] INFO - sg_trainer.py - Best checkpoint overriden: validation mAP@0.50: 0.0033201747573912144\n"
          ]
        },
        {
          "output_type": "stream",
          "name": "stdout",
          "text": [
            "===========================================================\n",
            "SUMMARY OF EPOCH 0\n",
            "├── Train\n",
            "│   ├── Ppyoloeloss/loss_cls = 1.7537\n",
            "│   ├── Ppyoloeloss/loss_iou = 1.0381\n",
            "│   ├── Ppyoloeloss/loss_dfl = 0.9281\n",
            "│   └── Ppyoloeloss/loss = 3.72\n",
            "└── Validation\n",
            "    ├── Ppyoloeloss/loss_cls = 1.9637\n",
            "    ├── Ppyoloeloss/loss_iou = 0.8127\n",
            "    ├── Ppyoloeloss/loss_dfl = 0.7173\n",
            "    ├── Ppyoloeloss/loss = 3.4937\n",
            "    ├── Precision@0.50 = 0.0\n",
            "    ├── Recall@0.50 = 0.0\n",
            "    ├── Map@0.50 = 0.0033\n",
            "    ├── F1@0.50 = 0.0\n",
            "    └── Best_score_threshold = 0.04\n",
            "\n",
            "===========================================================\n"
          ]
        },
        {
          "output_type": "stream",
          "name": "stderr",
          "text": [
            "Train epoch 1: 100%|██████████| 114/114 [02:41<00:00,  1.41s/it, PPYoloELoss/loss=2.54, PPYoloELoss/loss_cls=1.13, PPYoloELoss/loss_dfl=0.669, PPYoloELoss/loss_iou=0.739, gpu_mem=7.63]\n",
            "Validating epoch 1: 100%|██████████| 9/9 [00:04<00:00,  1.92it/s]\n",
            "[2024-05-12 20:31:47] INFO - base_sg_logger.py - Checkpoint saved in checkpoints2/human_in_thermal_run2/RUN_20240512_202524_167757/ckpt_best.pth\n",
            "[2024-05-12 20:31:47] INFO - sg_trainer.py - Best checkpoint overriden: validation mAP@0.50: 0.5116849541664124\n"
          ]
        },
        {
          "output_type": "stream",
          "name": "stdout",
          "text": [
            "2024-05-12 20:31:48,669 - clearml.model - WARNING - Connecting multiple input models with the same name: `averaging_snapshots`. This might result in the wrong model being used when executing remotely\n",
            "===========================================================\n",
            "SUMMARY OF EPOCH 1\n",
            "├── Train\n",
            "│   ├── Ppyoloeloss/loss_cls = 1.1339\n",
            "│   │   ├── Epoch N-1      = 1.7537 (\u001b[32m↘ -0.6199\u001b[0m)\n",
            "│   │   └── Best until now = 1.7537 (\u001b[32m↘ -0.6199\u001b[0m)\n",
            "│   ├── Ppyoloeloss/loss_iou = 0.7394\n",
            "│   │   ├── Epoch N-1      = 1.0381 (\u001b[32m↘ -0.2988\u001b[0m)\n",
            "│   │   └── Best until now = 1.0381 (\u001b[32m↘ -0.2988\u001b[0m)\n",
            "│   ├── Ppyoloeloss/loss_dfl = 0.6689\n",
            "│   │   ├── Epoch N-1      = 0.9281 (\u001b[32m↘ -0.2592\u001b[0m)\n",
            "│   │   └── Best until now = 0.9281 (\u001b[32m↘ -0.2592\u001b[0m)\n",
            "│   └── Ppyoloeloss/loss = 2.5421\n",
            "│       ├── Epoch N-1      = 3.72   (\u001b[32m↘ -1.1778\u001b[0m)\n",
            "│       └── Best until now = 3.72   (\u001b[32m↘ -1.1778\u001b[0m)\n",
            "└── Validation\n",
            "    ├── Ppyoloeloss/loss_cls = 1.0516\n",
            "    │   ├── Epoch N-1      = 1.9637 (\u001b[32m↘ -0.9121\u001b[0m)\n",
            "    │   └── Best until now = 1.9637 (\u001b[32m↘ -0.9121\u001b[0m)\n",
            "    ├── Ppyoloeloss/loss_iou = 0.6047\n",
            "    │   ├── Epoch N-1      = 0.8127 (\u001b[32m↘ -0.208\u001b[0m)\n",
            "    │   └── Best until now = 0.8127 (\u001b[32m↘ -0.208\u001b[0m)\n",
            "    ├── Ppyoloeloss/loss_dfl = 0.5486\n",
            "    │   ├── Epoch N-1      = 0.7173 (\u001b[32m↘ -0.1687\u001b[0m)\n",
            "    │   └── Best until now = 0.7173 (\u001b[32m↘ -0.1687\u001b[0m)\n",
            "    ├── Ppyoloeloss/loss = 2.2049\n",
            "    │   ├── Epoch N-1      = 3.4937 (\u001b[32m↘ -1.2888\u001b[0m)\n",
            "    │   └── Best until now = 3.4937 (\u001b[32m↘ -1.2888\u001b[0m)\n",
            "    ├── Precision@0.50 = 0.0181\n",
            "    │   ├── Epoch N-1      = 0.0    (\u001b[32m↗ 0.0181\u001b[0m)\n",
            "    │   └── Best until now = 0.0    (\u001b[32m↗ 0.0181\u001b[0m)\n",
            "    ├── Recall@0.50 = 0.9332\n",
            "    │   ├── Epoch N-1      = 0.0    (\u001b[32m↗ 0.9332\u001b[0m)\n",
            "    │   └── Best until now = 0.0    (\u001b[32m↗ 0.9332\u001b[0m)\n",
            "    ├── Map@0.50 = 0.5117\n",
            "    │   ├── Epoch N-1      = 0.0033 (\u001b[32m↗ 0.5084\u001b[0m)\n",
            "    │   └── Best until now = 0.0033 (\u001b[32m↗ 0.5084\u001b[0m)\n",
            "    ├── F1@0.50 = 0.0356\n",
            "    │   ├── Epoch N-1      = 0.0    (\u001b[32m↗ 0.0356\u001b[0m)\n",
            "    │   └── Best until now = 0.0    (\u001b[32m↗ 0.0356\u001b[0m)\n",
            "    └── Best_score_threshold = 0.38\n",
            "        ├── Epoch N-1      = 0.04   (↗ 0.34\u001b[0m)\n",
            "        └── Best until now = 0.04   (↗ 0.34\u001b[0m)\n",
            "\n",
            "===========================================================\n"
          ]
        },
        {
          "output_type": "stream",
          "name": "stderr",
          "text": [
            "Train epoch 2: 100%|██████████| 114/114 [02:42<00:00,  1.42s/it, PPYoloELoss/loss=2.32, PPYoloELoss/loss_cls=1.06, PPYoloELoss/loss_dfl=0.614, PPYoloELoss/loss_iou=0.646, gpu_mem=7.03]\n",
            "Validating epoch 2: 100%|██████████| 9/9 [00:04<00:00,  1.89it/s]\n",
            "[2024-05-12 20:34:58] INFO - base_sg_logger.py - Checkpoint saved in checkpoints2/human_in_thermal_run2/RUN_20240512_202524_167757/ckpt_best.pth\n",
            "[2024-05-12 20:34:58] INFO - sg_trainer.py - Best checkpoint overriden: validation mAP@0.50: 0.6436159014701843\n"
          ]
        },
        {
          "output_type": "stream",
          "name": "stdout",
          "text": [
            "===========================================================\n",
            "SUMMARY OF EPOCH 2\n",
            "├── Train\n",
            "│   ├── Ppyoloeloss/loss_cls = 1.0561\n",
            "│   │   ├── Epoch N-1      = 1.1339 (\u001b[32m↘ -0.0777\u001b[0m)\n",
            "│   │   └── Best until now = 1.1339 (\u001b[32m↘ -0.0777\u001b[0m)\n",
            "│   ├── Ppyoloeloss/loss_iou = 0.6464\n",
            "│   │   ├── Epoch N-1      = 0.7394 (\u001b[32m↘ -0.093\u001b[0m)\n",
            "│   │   └── Best until now = 0.7394 (\u001b[32m↘ -0.093\u001b[0m)\n",
            "│   ├── Ppyoloeloss/loss_dfl = 0.6139\n",
            "│   │   ├── Epoch N-1      = 0.6689 (\u001b[32m↘ -0.055\u001b[0m)\n",
            "│   │   └── Best until now = 0.6689 (\u001b[32m↘ -0.055\u001b[0m)\n",
            "│   └── Ppyoloeloss/loss = 2.3164\n",
            "│       ├── Epoch N-1      = 2.5421 (\u001b[32m↘ -0.2257\u001b[0m)\n",
            "│       └── Best until now = 2.5421 (\u001b[32m↘ -0.2257\u001b[0m)\n",
            "└── Validation\n",
            "    ├── Ppyoloeloss/loss_cls = 1.1738\n",
            "    │   ├── Epoch N-1      = 1.0516 (\u001b[31m↗ 0.1223\u001b[0m)\n",
            "    │   └── Best until now = 1.0516 (\u001b[31m↗ 0.1223\u001b[0m)\n",
            "    ├── Ppyoloeloss/loss_iou = 0.6109\n",
            "    │   ├── Epoch N-1      = 0.6047 (\u001b[31m↗ 0.0062\u001b[0m)\n",
            "    │   └── Best until now = 0.6047 (\u001b[31m↗ 0.0062\u001b[0m)\n",
            "    ├── Ppyoloeloss/loss_dfl = 0.5568\n",
            "    │   ├── Epoch N-1      = 0.5486 (\u001b[31m↗ 0.0082\u001b[0m)\n",
            "    │   └── Best until now = 0.5486 (\u001b[31m↗ 0.0082\u001b[0m)\n",
            "    ├── Ppyoloeloss/loss = 2.3416\n",
            "    │   ├── Epoch N-1      = 2.2049 (\u001b[31m↗ 0.1367\u001b[0m)\n",
            "    │   └── Best until now = 2.2049 (\u001b[31m↗ 0.1367\u001b[0m)\n",
            "    ├── Precision@0.50 = 0.0156\n",
            "    │   ├── Epoch N-1      = 0.0181 (\u001b[31m↘ -0.0025\u001b[0m)\n",
            "    │   └── Best until now = 0.0181 (\u001b[31m↘ -0.0025\u001b[0m)\n",
            "    ├── Recall@0.50 = 0.9072\n",
            "    │   ├── Epoch N-1      = 0.9332 (\u001b[31m↘ -0.026\u001b[0m)\n",
            "    │   └── Best until now = 0.9332 (\u001b[31m↘ -0.026\u001b[0m)\n",
            "    ├── Map@0.50 = 0.6436\n",
            "    │   ├── Epoch N-1      = 0.5117 (\u001b[32m↗ 0.1319\u001b[0m)\n",
            "    │   └── Best until now = 0.5117 (\u001b[32m↗ 0.1319\u001b[0m)\n",
            "    ├── F1@0.50 = 0.0308\n",
            "    │   ├── Epoch N-1      = 0.0356 (\u001b[31m↘ -0.0048\u001b[0m)\n",
            "    │   └── Best until now = 0.0356 (\u001b[31m↘ -0.0048\u001b[0m)\n",
            "    └── Best_score_threshold = 0.44\n",
            "        ├── Epoch N-1      = 0.38   (↗ 0.06\u001b[0m)\n",
            "        └── Best until now = 0.04   (↗ 0.4\u001b[0m)\n",
            "\n",
            "===========================================================\n"
          ]
        },
        {
          "output_type": "stream",
          "name": "stderr",
          "text": [
            "Train epoch 3: 100%|██████████| 114/114 [02:39<00:00,  1.40s/it, PPYoloELoss/loss=2.29, PPYoloELoss/loss_cls=1.05, PPYoloELoss/loss_dfl=0.606, PPYoloELoss/loss_iou=0.638, gpu_mem=6.49]\n",
            "Validating epoch 3: 100%|██████████| 9/9 [00:05<00:00,  1.71it/s]\n"
          ]
        },
        {
          "output_type": "stream",
          "name": "stdout",
          "text": [
            "===========================================================\n",
            "SUMMARY OF EPOCH 3\n",
            "├── Train\n",
            "│   ├── Ppyoloeloss/loss_cls = 1.0461\n",
            "│   │   ├── Epoch N-1      = 1.0561 (\u001b[32m↘ -0.01\u001b[0m)\n",
            "│   │   └── Best until now = 1.0561 (\u001b[32m↘ -0.01\u001b[0m)\n",
            "│   ├── Ppyoloeloss/loss_iou = 0.6384\n",
            "│   │   ├── Epoch N-1      = 0.6464 (\u001b[32m↘ -0.0079\u001b[0m)\n",
            "│   │   └── Best until now = 0.6464 (\u001b[32m↘ -0.0079\u001b[0m)\n",
            "│   ├── Ppyoloeloss/loss_dfl = 0.6062\n",
            "│   │   ├── Epoch N-1      = 0.6139 (\u001b[32m↘ -0.0077\u001b[0m)\n",
            "│   │   └── Best until now = 0.6139 (\u001b[32m↘ -0.0077\u001b[0m)\n",
            "│   └── Ppyoloeloss/loss = 2.2908\n",
            "│       ├── Epoch N-1      = 2.3164 (\u001b[32m↘ -0.0256\u001b[0m)\n",
            "│       └── Best until now = 2.3164 (\u001b[32m↘ -0.0256\u001b[0m)\n",
            "└── Validation\n",
            "    ├── Ppyoloeloss/loss_cls = 1.0833\n",
            "    │   ├── Epoch N-1      = 1.1738 (\u001b[32m↘ -0.0905\u001b[0m)\n",
            "    │   └── Best until now = 1.0516 (\u001b[31m↗ 0.0318\u001b[0m)\n",
            "    ├── Ppyoloeloss/loss_iou = 0.6216\n",
            "    │   ├── Epoch N-1      = 0.6109 (\u001b[31m↗ 0.0107\u001b[0m)\n",
            "    │   └── Best until now = 0.6047 (\u001b[31m↗ 0.0169\u001b[0m)\n",
            "    ├── Ppyoloeloss/loss_dfl = 0.5672\n",
            "    │   ├── Epoch N-1      = 0.5568 (\u001b[31m↗ 0.0104\u001b[0m)\n",
            "    │   └── Best until now = 0.5486 (\u001b[31m↗ 0.0186\u001b[0m)\n",
            "    ├── Ppyoloeloss/loss = 2.2721\n",
            "    │   ├── Epoch N-1      = 2.3416 (\u001b[32m↘ -0.0694\u001b[0m)\n",
            "    │   └── Best until now = 2.2049 (\u001b[31m↗ 0.0673\u001b[0m)\n",
            "    ├── Precision@0.50 = 0.0171\n",
            "    │   ├── Epoch N-1      = 0.0156 (\u001b[32m↗ 0.0014\u001b[0m)\n",
            "    │   └── Best until now = 0.0181 (\u001b[31m↘ -0.0011\u001b[0m)\n",
            "    ├── Recall@0.50 = 0.9184\n",
            "    │   ├── Epoch N-1      = 0.9072 (\u001b[32m↗ 0.0111\u001b[0m)\n",
            "    │   └── Best until now = 0.9332 (\u001b[31m↘ -0.0148\u001b[0m)\n",
            "    ├── Map@0.50 = 0.6074\n",
            "    │   ├── Epoch N-1      = 0.6436 (\u001b[31m↘ -0.0362\u001b[0m)\n",
            "    │   └── Best until now = 0.6436 (\u001b[31m↘ -0.0362\u001b[0m)\n",
            "    ├── F1@0.50 = 0.0335\n",
            "    │   ├── Epoch N-1      = 0.0308 (\u001b[32m↗ 0.0028\u001b[0m)\n",
            "    │   └── Best until now = 0.0356 (\u001b[31m↘ -0.0021\u001b[0m)\n",
            "    └── Best_score_threshold = 0.45\n",
            "        ├── Epoch N-1      = 0.44   (↗ 0.01\u001b[0m)\n",
            "        └── Best until now = 0.04   (↗ 0.41\u001b[0m)\n",
            "\n",
            "===========================================================\n"
          ]
        },
        {
          "output_type": "stream",
          "name": "stderr",
          "text": [
            "Train epoch 4: 100%|██████████| 114/114 [02:38<00:00,  1.39s/it, PPYoloELoss/loss=2.25, PPYoloELoss/loss_cls=1.03, PPYoloELoss/loss_dfl=0.595, PPYoloELoss/loss_iou=0.622, gpu_mem=7.07]\n",
            "Validating epoch 4: 100%|██████████| 9/9 [00:05<00:00,  1.72it/s]\n"
          ]
        },
        {
          "output_type": "stream",
          "name": "stdout",
          "text": [
            "===========================================================\n",
            "SUMMARY OF EPOCH 4\n",
            "├── Train\n",
            "│   ├── Ppyoloeloss/loss_cls = 1.0329\n",
            "│   │   ├── Epoch N-1      = 1.0461 (\u001b[32m↘ -0.0133\u001b[0m)\n",
            "│   │   └── Best until now = 1.0461 (\u001b[32m↘ -0.0133\u001b[0m)\n",
            "│   ├── Ppyoloeloss/loss_iou = 0.6225\n",
            "│   │   ├── Epoch N-1      = 0.6384 (\u001b[32m↘ -0.016\u001b[0m)\n",
            "│   │   └── Best until now = 0.6384 (\u001b[32m↘ -0.016\u001b[0m)\n",
            "│   ├── Ppyoloeloss/loss_dfl = 0.5954\n",
            "│   │   ├── Epoch N-1      = 0.6062 (\u001b[32m↘ -0.0108\u001b[0m)\n",
            "│   │   └── Best until now = 0.6062 (\u001b[32m↘ -0.0108\u001b[0m)\n",
            "│   └── Ppyoloeloss/loss = 2.2508\n",
            "│       ├── Epoch N-1      = 2.2908 (\u001b[32m↘ -0.04\u001b[0m)\n",
            "│       └── Best until now = 2.2908 (\u001b[32m↘ -0.04\u001b[0m)\n",
            "└── Validation\n",
            "    ├── Ppyoloeloss/loss_cls = 1.007\n",
            "    │   ├── Epoch N-1      = 1.0833 (\u001b[32m↘ -0.0764\u001b[0m)\n",
            "    │   └── Best until now = 1.0516 (\u001b[32m↘ -0.0446\u001b[0m)\n",
            "    ├── Ppyoloeloss/loss_iou = 0.6423\n",
            "    │   ├── Epoch N-1      = 0.6216 (\u001b[31m↗ 0.0207\u001b[0m)\n",
            "    │   └── Best until now = 0.6047 (\u001b[31m↗ 0.0377\u001b[0m)\n",
            "    ├── Ppyoloeloss/loss_dfl = 0.5696\n",
            "    │   ├── Epoch N-1      = 0.5672 (\u001b[31m↗ 0.0023\u001b[0m)\n",
            "    │   └── Best until now = 0.5486 (\u001b[31m↗ 0.0209\u001b[0m)\n",
            "    ├── Ppyoloeloss/loss = 2.2188\n",
            "    │   ├── Epoch N-1      = 2.2721 (\u001b[32m↘ -0.0533\u001b[0m)\n",
            "    │   └── Best until now = 2.2049 (\u001b[31m↗ 0.014\u001b[0m)\n",
            "    ├── Precision@0.50 = 0.0221\n",
            "    │   ├── Epoch N-1      = 0.0171 (\u001b[32m↗ 0.005\u001b[0m)\n",
            "    │   └── Best until now = 0.0181 (\u001b[32m↗ 0.004\u001b[0m)\n",
            "    ├── Recall@0.50 = 0.9462\n",
            "    │   ├── Epoch N-1      = 0.9184 (\u001b[32m↗ 0.0278\u001b[0m)\n",
            "    │   └── Best until now = 0.9332 (\u001b[32m↗ 0.013\u001b[0m)\n",
            "    ├── Map@0.50 = 0.6287\n",
            "    │   ├── Epoch N-1      = 0.6074 (\u001b[32m↗ 0.0213\u001b[0m)\n",
            "    │   └── Best until now = 0.6436 (\u001b[31m↘ -0.0149\u001b[0m)\n",
            "    ├── F1@0.50 = 0.0432\n",
            "    │   ├── Epoch N-1      = 0.0335 (\u001b[32m↗ 0.0097\u001b[0m)\n",
            "    │   └── Best until now = 0.0356 (\u001b[32m↗ 0.0076\u001b[0m)\n",
            "    └── Best_score_threshold = 0.46\n",
            "        ├── Epoch N-1      = 0.45   (↗ 0.01\u001b[0m)\n",
            "        └── Best until now = 0.04   (↗ 0.42\u001b[0m)\n",
            "\n",
            "===========================================================\n"
          ]
        },
        {
          "output_type": "stream",
          "name": "stderr",
          "text": [
            "Train epoch 5: 100%|██████████| 114/114 [02:35<00:00,  1.36s/it, PPYoloELoss/loss=2.18, PPYoloELoss/loss_cls=1, PPYoloELoss/loss_dfl=0.573, PPYoloELoss/loss_iou=0.604, gpu_mem=7.25]\n",
            "Validating epoch 5: 100%|██████████| 9/9 [00:04<00:00,  1.97it/s]\n",
            "[2024-05-12 20:44:09] INFO - base_sg_logger.py - Checkpoint saved in checkpoints2/human_in_thermal_run2/RUN_20240512_202524_167757/ckpt_best.pth\n",
            "[2024-05-12 20:44:09] INFO - sg_trainer.py - Best checkpoint overriden: validation mAP@0.50: 0.6529012322425842\n"
          ]
        },
        {
          "output_type": "stream",
          "name": "stdout",
          "text": [
            "===========================================================\n",
            "SUMMARY OF EPOCH 5\n",
            "├── Train\n",
            "│   ├── Ppyoloeloss/loss_cls = 1.0042\n",
            "│   │   ├── Epoch N-1      = 1.0329 (\u001b[32m↘ -0.0286\u001b[0m)\n",
            "│   │   └── Best until now = 1.0329 (\u001b[32m↘ -0.0286\u001b[0m)\n",
            "│   ├── Ppyoloeloss/loss_iou = 0.604\n",
            "│   │   ├── Epoch N-1      = 0.6225 (\u001b[32m↘ -0.0185\u001b[0m)\n",
            "│   │   └── Best until now = 0.6225 (\u001b[32m↘ -0.0185\u001b[0m)\n",
            "│   ├── Ppyoloeloss/loss_dfl = 0.5731\n",
            "│   │   ├── Epoch N-1      = 0.5954 (\u001b[32m↘ -0.0223\u001b[0m)\n",
            "│   │   └── Best until now = 0.5954 (\u001b[32m↘ -0.0223\u001b[0m)\n",
            "│   └── Ppyoloeloss/loss = 2.1814\n",
            "│       ├── Epoch N-1      = 2.2508 (\u001b[32m↘ -0.0694\u001b[0m)\n",
            "│       └── Best until now = 2.2508 (\u001b[32m↘ -0.0694\u001b[0m)\n",
            "└── Validation\n",
            "    ├── Ppyoloeloss/loss_cls = 1.0306\n",
            "    │   ├── Epoch N-1      = 1.007  (\u001b[31m↗ 0.0236\u001b[0m)\n",
            "    │   └── Best until now = 1.007  (\u001b[31m↗ 0.0236\u001b[0m)\n",
            "    ├── Ppyoloeloss/loss_iou = 0.5962\n",
            "    │   ├── Epoch N-1      = 0.6423 (\u001b[32m↘ -0.0461\u001b[0m)\n",
            "    │   └── Best until now = 0.6047 (\u001b[32m↘ -0.0084\u001b[0m)\n",
            "    ├── Ppyoloeloss/loss_dfl = 0.5387\n",
            "    │   ├── Epoch N-1      = 0.5696 (\u001b[32m↘ -0.0309\u001b[0m)\n",
            "    │   └── Best until now = 0.5486 (\u001b[32m↘ -0.01\u001b[0m)\n",
            "    ├── Ppyoloeloss/loss = 2.1655\n",
            "    │   ├── Epoch N-1      = 2.2188 (\u001b[32m↘ -0.0534\u001b[0m)\n",
            "    │   └── Best until now = 2.2049 (\u001b[32m↘ -0.0394\u001b[0m)\n",
            "    ├── Precision@0.50 = 0.0209\n",
            "    │   ├── Epoch N-1      = 0.0221 (\u001b[31m↘ -0.0012\u001b[0m)\n",
            "    │   └── Best until now = 0.0221 (\u001b[31m↘ -0.0012\u001b[0m)\n",
            "    ├── Recall@0.50 = 0.9332\n",
            "    │   ├── Epoch N-1      = 0.9462 (\u001b[31m↘ -0.013\u001b[0m)\n",
            "    │   └── Best until now = 0.9462 (\u001b[31m↘ -0.013\u001b[0m)\n",
            "    ├── Map@0.50 = 0.6529\n",
            "    │   ├── Epoch N-1      = 0.6287 (\u001b[32m↗ 0.0242\u001b[0m)\n",
            "    │   └── Best until now = 0.6436 (\u001b[32m↗ 0.0093\u001b[0m)\n",
            "    ├── F1@0.50 = 0.041\n",
            "    │   ├── Epoch N-1      = 0.0432 (\u001b[31m↘ -0.0022\u001b[0m)\n",
            "    │   └── Best until now = 0.0432 (\u001b[31m↘ -0.0022\u001b[0m)\n",
            "    └── Best_score_threshold = 0.43\n",
            "        ├── Epoch N-1      = 0.46   (↘ -0.03\u001b[0m)\n",
            "        └── Best until now = 0.04   (↗ 0.39\u001b[0m)\n",
            "\n",
            "===========================================================\n"
          ]
        },
        {
          "output_type": "stream",
          "name": "stderr",
          "text": [
            "Train epoch 6: 100%|██████████| 114/114 [02:38<00:00,  1.39s/it, PPYoloELoss/loss=2.16, PPYoloELoss/loss_cls=1, PPYoloELoss/loss_dfl=0.567, PPYoloELoss/loss_iou=0.596, gpu_mem=7.88]\n",
            "Validating epoch 6: 100%|██████████| 9/9 [00:05<00:00,  1.66it/s]\n",
            "[2024-05-12 20:47:20] INFO - base_sg_logger.py - Checkpoint saved in checkpoints2/human_in_thermal_run2/RUN_20240512_202524_167757/ckpt_best.pth\n",
            "[2024-05-12 20:47:20] INFO - sg_trainer.py - Best checkpoint overriden: validation mAP@0.50: 0.6536535620689392\n"
          ]
        },
        {
          "output_type": "stream",
          "name": "stdout",
          "text": [
            "===========================================================\n",
            "SUMMARY OF EPOCH 6\n",
            "├── Train\n",
            "│   ├── Ppyoloeloss/loss_cls = 1.0015\n",
            "│   │   ├── Epoch N-1      = 1.0042 (\u001b[32m↘ -0.0027\u001b[0m)\n",
            "│   │   └── Best until now = 1.0042 (\u001b[32m↘ -0.0027\u001b[0m)\n",
            "│   ├── Ppyoloeloss/loss_iou = 0.5957\n",
            "│   │   ├── Epoch N-1      = 0.604  (\u001b[32m↘ -0.0083\u001b[0m)\n",
            "│   │   └── Best until now = 0.604  (\u001b[32m↘ -0.0083\u001b[0m)\n",
            "│   ├── Ppyoloeloss/loss_dfl = 0.5667\n",
            "│   │   ├── Epoch N-1      = 0.5731 (\u001b[32m↘ -0.0064\u001b[0m)\n",
            "│   │   └── Best until now = 0.5731 (\u001b[32m↘ -0.0064\u001b[0m)\n",
            "│   └── Ppyoloeloss/loss = 2.164\n",
            "│       ├── Epoch N-1      = 2.1814 (\u001b[32m↘ -0.0174\u001b[0m)\n",
            "│       └── Best until now = 2.1814 (\u001b[32m↘ -0.0174\u001b[0m)\n",
            "└── Validation\n",
            "    ├── Ppyoloeloss/loss_cls = 1.014\n",
            "    │   ├── Epoch N-1      = 1.0306 (\u001b[32m↘ -0.0166\u001b[0m)\n",
            "    │   └── Best until now = 1.007  (\u001b[31m↗ 0.0071\u001b[0m)\n",
            "    ├── Ppyoloeloss/loss_iou = 0.5877\n",
            "    │   ├── Epoch N-1      = 0.5962 (\u001b[32m↘ -0.0086\u001b[0m)\n",
            "    │   └── Best until now = 0.5962 (\u001b[32m↘ -0.0086\u001b[0m)\n",
            "    ├── Ppyoloeloss/loss_dfl = 0.5332\n",
            "    │   ├── Epoch N-1      = 0.5387 (\u001b[32m↘ -0.0055\u001b[0m)\n",
            "    │   └── Best until now = 0.5387 (\u001b[32m↘ -0.0055\u001b[0m)\n",
            "    ├── Ppyoloeloss/loss = 2.1348\n",
            "    │   ├── Epoch N-1      = 2.1655 (\u001b[32m↘ -0.0306\u001b[0m)\n",
            "    │   └── Best until now = 2.1655 (\u001b[32m↘ -0.0306\u001b[0m)\n",
            "    ├── Precision@0.50 = 0.0247\n",
            "    │   ├── Epoch N-1      = 0.0209 (\u001b[32m↗ 0.0037\u001b[0m)\n",
            "    │   └── Best until now = 0.0221 (\u001b[32m↗ 0.0026\u001b[0m)\n",
            "    ├── Recall@0.50 = 0.9462\n",
            "    │   ├── Epoch N-1      = 0.9332 (\u001b[32m↗ 0.013\u001b[0m)\n",
            "    │   └── Best until now = 0.9462 (\u001b[37m= 0.0\u001b[0m)\n",
            "    ├── Map@0.50 = 0.6537\n",
            "    │   ├── Epoch N-1      = 0.6529 (\u001b[32m↗ 0.0008\u001b[0m)\n",
            "    │   └── Best until now = 0.6529 (\u001b[32m↗ 0.0008\u001b[0m)\n",
            "    ├── F1@0.50 = 0.0481\n",
            "    │   ├── Epoch N-1      = 0.041  (\u001b[32m↗ 0.0071\u001b[0m)\n",
            "    │   └── Best until now = 0.0432 (\u001b[32m↗ 0.0049\u001b[0m)\n",
            "    └── Best_score_threshold = 0.37\n",
            "        ├── Epoch N-1      = 0.43   (↘ -0.06\u001b[0m)\n",
            "        └── Best until now = 0.04   (↗ 0.33\u001b[0m)\n",
            "\n",
            "===========================================================\n"
          ]
        },
        {
          "output_type": "stream",
          "name": "stderr",
          "text": [
            "Train epoch 7: 100%|██████████| 114/114 [02:32<00:00,  1.34s/it, PPYoloELoss/loss=2.13, PPYoloELoss/loss_cls=0.984, PPYoloELoss/loss_dfl=0.554, PPYoloELoss/loss_iou=0.587, gpu_mem=8.11]\n",
            "Validating epoch 7: 100%|██████████| 9/9 [00:06<00:00,  1.35it/s]\n",
            "[2024-05-12 20:50:27] INFO - base_sg_logger.py - Checkpoint saved in checkpoints2/human_in_thermal_run2/RUN_20240512_202524_167757/ckpt_best.pth\n",
            "[2024-05-12 20:50:27] INFO - sg_trainer.py - Best checkpoint overriden: validation mAP@0.50: 0.7454095482826233\n"
          ]
        },
        {
          "output_type": "stream",
          "name": "stdout",
          "text": [
            "===========================================================\n",
            "SUMMARY OF EPOCH 7\n",
            "├── Train\n",
            "│   ├── Ppyoloeloss/loss_cls = 0.9845\n",
            "│   │   ├── Epoch N-1      = 1.0015 (\u001b[32m↘ -0.017\u001b[0m)\n",
            "│   │   └── Best until now = 1.0015 (\u001b[32m↘ -0.017\u001b[0m)\n",
            "│   ├── Ppyoloeloss/loss_iou = 0.587\n",
            "│   │   ├── Epoch N-1      = 0.5957 (\u001b[32m↘ -0.0087\u001b[0m)\n",
            "│   │   └── Best until now = 0.5957 (\u001b[32m↘ -0.0087\u001b[0m)\n",
            "│   ├── Ppyoloeloss/loss_dfl = 0.5543\n",
            "│   │   ├── Epoch N-1      = 0.5667 (\u001b[32m↘ -0.0124\u001b[0m)\n",
            "│   │   └── Best until now = 0.5667 (\u001b[32m↘ -0.0124\u001b[0m)\n",
            "│   └── Ppyoloeloss/loss = 2.1258\n",
            "│       ├── Epoch N-1      = 2.164  (\u001b[32m↘ -0.0382\u001b[0m)\n",
            "│       └── Best until now = 2.164  (\u001b[32m↘ -0.0382\u001b[0m)\n",
            "└── Validation\n",
            "    ├── Ppyoloeloss/loss_cls = 0.9754\n",
            "    │   ├── Epoch N-1      = 1.014  (\u001b[32m↘ -0.0386\u001b[0m)\n",
            "    │   └── Best until now = 1.007  (\u001b[32m↘ -0.0315\u001b[0m)\n",
            "    ├── Ppyoloeloss/loss_iou = 0.5446\n",
            "    │   ├── Epoch N-1      = 0.5877 (\u001b[32m↘ -0.043\u001b[0m)\n",
            "    │   └── Best until now = 0.5877 (\u001b[32m↘ -0.043\u001b[0m)\n",
            "    ├── Ppyoloeloss/loss_dfl = 0.5008\n",
            "    │   ├── Epoch N-1      = 0.5332 (\u001b[32m↘ -0.0323\u001b[0m)\n",
            "    │   └── Best until now = 0.5332 (\u001b[32m↘ -0.0323\u001b[0m)\n",
            "    ├── Ppyoloeloss/loss = 2.0209\n",
            "    │   ├── Epoch N-1      = 2.1348 (\u001b[32m↘ -0.1139\u001b[0m)\n",
            "    │   └── Best until now = 2.1348 (\u001b[32m↘ -0.1139\u001b[0m)\n",
            "    ├── Precision@0.50 = 0.0255\n",
            "    │   ├── Epoch N-1      = 0.0247 (\u001b[32m↗ 0.0009\u001b[0m)\n",
            "    │   └── Best until now = 0.0247 (\u001b[32m↗ 0.0009\u001b[0m)\n",
            "    ├── Recall@0.50 = 0.9518\n",
            "    │   ├── Epoch N-1      = 0.9462 (\u001b[32m↗ 0.0056\u001b[0m)\n",
            "    │   └── Best until now = 0.9462 (\u001b[32m↗ 0.0056\u001b[0m)\n",
            "    ├── Map@0.50 = 0.7454\n",
            "    │   ├── Epoch N-1      = 0.6537 (\u001b[32m↗ 0.0918\u001b[0m)\n",
            "    │   └── Best until now = 0.6537 (\u001b[32m↗ 0.0918\u001b[0m)\n",
            "    ├── F1@0.50 = 0.0497\n",
            "    │   ├── Epoch N-1      = 0.0481 (\u001b[32m↗ 0.0017\u001b[0m)\n",
            "    │   └── Best until now = 0.0481 (\u001b[32m↗ 0.0017\u001b[0m)\n",
            "    └── Best_score_threshold = 0.46\n",
            "        ├── Epoch N-1      = 0.37   (↗ 0.09\u001b[0m)\n",
            "        └── Best until now = 0.04   (↗ 0.42\u001b[0m)\n",
            "\n",
            "===========================================================\n"
          ]
        },
        {
          "output_type": "stream",
          "name": "stderr",
          "text": [
            "Train epoch 8: 100%|██████████| 114/114 [02:34<00:00,  1.35s/it, PPYoloELoss/loss=2.1, PPYoloELoss/loss_cls=0.977, PPYoloELoss/loss_dfl=0.546, PPYoloELoss/loss_iou=0.577, gpu_mem=7.7]\n",
            "Validating epoch 8: 100%|██████████| 9/9 [00:05<00:00,  1.53it/s]\n",
            "[2024-05-12 20:53:37] INFO - base_sg_logger.py - Checkpoint saved in checkpoints2/human_in_thermal_run2/RUN_20240512_202524_167757/ckpt_best.pth\n",
            "[2024-05-12 20:53:37] INFO - sg_trainer.py - Best checkpoint overriden: validation mAP@0.50: 0.747423529624939\n"
          ]
        },
        {
          "output_type": "stream",
          "name": "stdout",
          "text": [
            "===========================================================\n",
            "SUMMARY OF EPOCH 8\n",
            "├── Train\n",
            "│   ├── Ppyoloeloss/loss_cls = 0.977\n",
            "│   │   ├── Epoch N-1      = 0.9845 (\u001b[32m↘ -0.0075\u001b[0m)\n",
            "│   │   └── Best until now = 0.9845 (\u001b[32m↘ -0.0075\u001b[0m)\n",
            "│   ├── Ppyoloeloss/loss_iou = 0.5771\n",
            "│   │   ├── Epoch N-1      = 0.587  (\u001b[32m↘ -0.0099\u001b[0m)\n",
            "│   │   └── Best until now = 0.587  (\u001b[32m↘ -0.0099\u001b[0m)\n",
            "│   ├── Ppyoloeloss/loss_dfl = 0.546\n",
            "│   │   ├── Epoch N-1      = 0.5543 (\u001b[32m↘ -0.0083\u001b[0m)\n",
            "│   │   └── Best until now = 0.5543 (\u001b[32m↘ -0.0083\u001b[0m)\n",
            "│   └── Ppyoloeloss/loss = 2.1001\n",
            "│       ├── Epoch N-1      = 2.1258 (\u001b[32m↘ -0.0257\u001b[0m)\n",
            "│       └── Best until now = 2.1258 (\u001b[32m↘ -0.0257\u001b[0m)\n",
            "└── Validation\n",
            "    ├── Ppyoloeloss/loss_cls = 0.9075\n",
            "    │   ├── Epoch N-1      = 0.9754 (\u001b[32m↘ -0.0679\u001b[0m)\n",
            "    │   └── Best until now = 0.9754 (\u001b[32m↘ -0.0679\u001b[0m)\n",
            "    ├── Ppyoloeloss/loss_iou = 0.5472\n",
            "    │   ├── Epoch N-1      = 0.5446 (\u001b[31m↗ 0.0026\u001b[0m)\n",
            "    │   └── Best until now = 0.5446 (\u001b[31m↗ 0.0026\u001b[0m)\n",
            "    ├── Ppyoloeloss/loss_dfl = 0.5\n",
            "    │   ├── Epoch N-1      = 0.5008 (\u001b[32m↘ -0.0008\u001b[0m)\n",
            "    │   └── Best until now = 0.5008 (\u001b[32m↘ -0.0008\u001b[0m)\n",
            "    ├── Ppyoloeloss/loss = 1.9547\n",
            "    │   ├── Epoch N-1      = 2.0209 (\u001b[32m↘ -0.0662\u001b[0m)\n",
            "    │   └── Best until now = 2.0209 (\u001b[32m↘ -0.0662\u001b[0m)\n",
            "    ├── Precision@0.50 = 0.045\n",
            "    │   ├── Epoch N-1      = 0.0255 (\u001b[32m↗ 0.0195\u001b[0m)\n",
            "    │   └── Best until now = 0.0255 (\u001b[32m↗ 0.0195\u001b[0m)\n",
            "    ├── Recall@0.50 = 0.9369\n",
            "    │   ├── Epoch N-1      = 0.9518 (\u001b[31m↘ -0.0148\u001b[0m)\n",
            "    │   └── Best until now = 0.9518 (\u001b[31m↘ -0.0148\u001b[0m)\n",
            "    ├── Map@0.50 = 0.7474\n",
            "    │   ├── Epoch N-1      = 0.7454 (\u001b[32m↗ 0.002\u001b[0m)\n",
            "    │   └── Best until now = 0.7454 (\u001b[32m↗ 0.002\u001b[0m)\n",
            "    ├── F1@0.50 = 0.0859\n",
            "    │   ├── Epoch N-1      = 0.0497 (\u001b[32m↗ 0.0361\u001b[0m)\n",
            "    │   └── Best until now = 0.0497 (\u001b[32m↗ 0.0361\u001b[0m)\n",
            "    └── Best_score_threshold = 0.42\n",
            "        ├── Epoch N-1      = 0.46   (↘ -0.04\u001b[0m)\n",
            "        └── Best until now = 0.04   (↗ 0.38\u001b[0m)\n",
            "\n",
            "===========================================================\n"
          ]
        },
        {
          "output_type": "stream",
          "name": "stderr",
          "text": [
            "Train epoch 9: 100%|██████████| 114/114 [02:34<00:00,  1.35s/it, PPYoloELoss/loss=2.08, PPYoloELoss/loss_cls=0.968, PPYoloELoss/loss_dfl=0.538, PPYoloELoss/loss_iou=0.574, gpu_mem=7.47]\n",
            "Validating epoch 9: 100%|██████████| 9/9 [00:07<00:00,  1.26it/s]\n",
            "[2024-05-12 20:56:47] INFO - base_sg_logger.py - Checkpoint saved in checkpoints2/human_in_thermal_run2/RUN_20240512_202524_167757/ckpt_best.pth\n",
            "[2024-05-12 20:56:47] INFO - sg_trainer.py - Best checkpoint overriden: validation mAP@0.50: 0.7682413458824158\n"
          ]
        },
        {
          "output_type": "stream",
          "name": "stdout",
          "text": [
            "===========================================================\n",
            "SUMMARY OF EPOCH 9\n",
            "├── Train\n",
            "│   ├── Ppyoloeloss/loss_cls = 0.9676\n",
            "│   │   ├── Epoch N-1      = 0.977  (\u001b[32m↘ -0.0094\u001b[0m)\n",
            "│   │   └── Best until now = 0.977  (\u001b[32m↘ -0.0094\u001b[0m)\n",
            "│   ├── Ppyoloeloss/loss_iou = 0.5741\n",
            "│   │   ├── Epoch N-1      = 0.5771 (\u001b[32m↘ -0.003\u001b[0m)\n",
            "│   │   └── Best until now = 0.5771 (\u001b[32m↘ -0.003\u001b[0m)\n",
            "│   ├── Ppyoloeloss/loss_dfl = 0.5377\n",
            "│   │   ├── Epoch N-1      = 0.546  (\u001b[32m↘ -0.0083\u001b[0m)\n",
            "│   │   └── Best until now = 0.546  (\u001b[32m↘ -0.0083\u001b[0m)\n",
            "│   └── Ppyoloeloss/loss = 2.0794\n",
            "│       ├── Epoch N-1      = 2.1001 (\u001b[32m↘ -0.0207\u001b[0m)\n",
            "│       └── Best until now = 2.1001 (\u001b[32m↘ -0.0207\u001b[0m)\n",
            "└── Validation\n",
            "    ├── Ppyoloeloss/loss_cls = 0.9702\n",
            "    │   ├── Epoch N-1      = 0.9075 (\u001b[31m↗ 0.0626\u001b[0m)\n",
            "    │   └── Best until now = 0.9075 (\u001b[31m↗ 0.0626\u001b[0m)\n",
            "    ├── Ppyoloeloss/loss_iou = 0.5466\n",
            "    │   ├── Epoch N-1      = 0.5472 (\u001b[32m↘ -0.0007\u001b[0m)\n",
            "    │   └── Best until now = 0.5446 (\u001b[31m↗ 0.0019\u001b[0m)\n",
            "    ├── Ppyoloeloss/loss_dfl = 0.5013\n",
            "    │   ├── Epoch N-1      = 0.5    (\u001b[31m↗ 0.0014\u001b[0m)\n",
            "    │   └── Best until now = 0.5    (\u001b[31m↗ 0.0014\u001b[0m)\n",
            "    ├── Ppyoloeloss/loss = 2.0181\n",
            "    │   ├── Epoch N-1      = 1.9547 (\u001b[31m↗ 0.0633\u001b[0m)\n",
            "    │   └── Best until now = 1.9547 (\u001b[31m↗ 0.0633\u001b[0m)\n",
            "    ├── Precision@0.50 = 0.0213\n",
            "    │   ├── Epoch N-1      = 0.045  (\u001b[31m↘ -0.0237\u001b[0m)\n",
            "    │   └── Best until now = 0.045  (\u001b[31m↘ -0.0237\u001b[0m)\n",
            "    ├── Recall@0.50 = 0.9573\n",
            "    │   ├── Epoch N-1      = 0.9369 (\u001b[32m↗ 0.0204\u001b[0m)\n",
            "    │   └── Best until now = 0.9518 (\u001b[32m↗ 0.0056\u001b[0m)\n",
            "    ├── Map@0.50 = 0.7682\n",
            "    │   ├── Epoch N-1      = 0.7474 (\u001b[32m↗ 0.0208\u001b[0m)\n",
            "    │   └── Best until now = 0.7474 (\u001b[32m↗ 0.0208\u001b[0m)\n",
            "    ├── F1@0.50 = 0.0418\n",
            "    │   ├── Epoch N-1      = 0.0859 (\u001b[31m↘ -0.0441\u001b[0m)\n",
            "    │   └── Best until now = 0.0859 (\u001b[31m↘ -0.0441\u001b[0m)\n",
            "    └── Best_score_threshold = 0.45\n",
            "        ├── Epoch N-1      = 0.42   (↗ 0.03\u001b[0m)\n",
            "        └── Best until now = 0.04   (↗ 0.41\u001b[0m)\n",
            "\n",
            "===========================================================\n"
          ]
        },
        {
          "output_type": "stream",
          "name": "stderr",
          "text": [
            "Train epoch 10: 100%|██████████| 114/114 [02:34<00:00,  1.35s/it, PPYoloELoss/loss=2.04, PPYoloELoss/loss_cls=0.953, PPYoloELoss/loss_dfl=0.526, PPYoloELoss/loss_iou=0.558, gpu_mem=7.69]\n",
            "Validating epoch 10: 100%|██████████| 9/9 [00:05<00:00,  1.65it/s]\n",
            "[2024-05-12 21:00:00] INFO - base_sg_logger.py - Checkpoint saved in checkpoints2/human_in_thermal_run2/RUN_20240512_202524_167757/ckpt_best.pth\n",
            "[2024-05-12 21:00:00] INFO - sg_trainer.py - Best checkpoint overriden: validation mAP@0.50: 0.7720553874969482\n"
          ]
        },
        {
          "output_type": "stream",
          "name": "stdout",
          "text": [
            "===========================================================\n",
            "SUMMARY OF EPOCH 10\n",
            "├── Train\n",
            "│   ├── Ppyoloeloss/loss_cls = 0.953\n",
            "│   │   ├── Epoch N-1      = 0.9676 (\u001b[32m↘ -0.0146\u001b[0m)\n",
            "│   │   └── Best until now = 0.9676 (\u001b[32m↘ -0.0146\u001b[0m)\n",
            "│   ├── Ppyoloeloss/loss_iou = 0.5584\n",
            "│   │   ├── Epoch N-1      = 0.5741 (\u001b[32m↘ -0.0157\u001b[0m)\n",
            "│   │   └── Best until now = 0.5741 (\u001b[32m↘ -0.0157\u001b[0m)\n",
            "│   ├── Ppyoloeloss/loss_dfl = 0.5263\n",
            "│   │   ├── Epoch N-1      = 0.5377 (\u001b[32m↘ -0.0114\u001b[0m)\n",
            "│   │   └── Best until now = 0.5377 (\u001b[32m↘ -0.0114\u001b[0m)\n",
            "│   └── Ppyoloeloss/loss = 2.0376\n",
            "│       ├── Epoch N-1      = 2.0794 (\u001b[32m↘ -0.0418\u001b[0m)\n",
            "│       └── Best until now = 2.0794 (\u001b[32m↘ -0.0418\u001b[0m)\n",
            "└── Validation\n",
            "    ├── Ppyoloeloss/loss_cls = 0.93\n",
            "    │   ├── Epoch N-1      = 0.9702 (\u001b[32m↘ -0.0402\u001b[0m)\n",
            "    │   └── Best until now = 0.9075 (\u001b[31m↗ 0.0224\u001b[0m)\n",
            "    ├── Ppyoloeloss/loss_iou = 0.5332\n",
            "    │   ├── Epoch N-1      = 0.5466 (\u001b[32m↘ -0.0134\u001b[0m)\n",
            "    │   └── Best until now = 0.5446 (\u001b[32m↘ -0.0114\u001b[0m)\n",
            "    ├── Ppyoloeloss/loss_dfl = 0.4927\n",
            "    │   ├── Epoch N-1      = 0.5013 (\u001b[32m↘ -0.0087\u001b[0m)\n",
            "    │   └── Best until now = 0.5    (\u001b[32m↘ -0.0073\u001b[0m)\n",
            "    ├── Ppyoloeloss/loss = 1.9558\n",
            "    │   ├── Epoch N-1      = 2.0181 (\u001b[32m↘ -0.0623\u001b[0m)\n",
            "    │   └── Best until now = 1.9547 (\u001b[31m↗ 0.0011\u001b[0m)\n",
            "    ├── Precision@0.50 = 0.0309\n",
            "    │   ├── Epoch N-1      = 0.0213 (\u001b[32m↗ 0.0095\u001b[0m)\n",
            "    │   └── Best until now = 0.045  (\u001b[31m↘ -0.0141\u001b[0m)\n",
            "    ├── Recall@0.50 = 0.9555\n",
            "    │   ├── Epoch N-1      = 0.9573 (\u001b[31m↘ -0.0019\u001b[0m)\n",
            "    │   └── Best until now = 0.9573 (\u001b[31m↘ -0.0019\u001b[0m)\n",
            "    ├── Map@0.50 = 0.7721\n",
            "    │   ├── Epoch N-1      = 0.7682 (\u001b[32m↗ 0.0038\u001b[0m)\n",
            "    │   └── Best until now = 0.7682 (\u001b[32m↗ 0.0038\u001b[0m)\n",
            "    ├── F1@0.50 = 0.0598\n",
            "    │   ├── Epoch N-1      = 0.0418 (\u001b[32m↗ 0.0181\u001b[0m)\n",
            "    │   └── Best until now = 0.0859 (\u001b[31m↘ -0.026\u001b[0m)\n",
            "    └── Best_score_threshold = 0.42\n",
            "        ├── Epoch N-1      = 0.45   (↘ -0.03\u001b[0m)\n",
            "        └── Best until now = 0.04   (↗ 0.38\u001b[0m)\n",
            "\n",
            "===========================================================\n"
          ]
        },
        {
          "output_type": "stream",
          "name": "stderr",
          "text": [
            "Train epoch 11: 100%|██████████| 114/114 [02:37<00:00,  1.38s/it, PPYoloELoss/loss=2.01, PPYoloELoss/loss_cls=0.938, PPYoloELoss/loss_dfl=0.52, PPYoloELoss/loss_iou=0.554, gpu_mem=7.42]\n",
            "Validating epoch 11: 100%|██████████| 9/9 [00:06<00:00,  1.36it/s]\n",
            "[2024-05-12 21:03:16] INFO - base_sg_logger.py - Checkpoint saved in checkpoints2/human_in_thermal_run2/RUN_20240512_202524_167757/ckpt_best.pth\n",
            "[2024-05-12 21:03:16] INFO - sg_trainer.py - Best checkpoint overriden: validation mAP@0.50: 0.8240812420845032\n"
          ]
        },
        {
          "output_type": "stream",
          "name": "stdout",
          "text": [
            "===========================================================\n",
            "SUMMARY OF EPOCH 11\n",
            "├── Train\n",
            "│   ├── Ppyoloeloss/loss_cls = 0.9376\n",
            "│   │   ├── Epoch N-1      = 0.953  (\u001b[32m↘ -0.0154\u001b[0m)\n",
            "│   │   └── Best until now = 0.953  (\u001b[32m↘ -0.0154\u001b[0m)\n",
            "│   ├── Ppyoloeloss/loss_iou = 0.5538\n",
            "│   │   ├── Epoch N-1      = 0.5584 (\u001b[32m↘ -0.0045\u001b[0m)\n",
            "│   │   └── Best until now = 0.5584 (\u001b[32m↘ -0.0045\u001b[0m)\n",
            "│   ├── Ppyoloeloss/loss_dfl = 0.5203\n",
            "│   │   ├── Epoch N-1      = 0.5263 (\u001b[32m↘ -0.006\u001b[0m)\n",
            "│   │   └── Best until now = 0.5263 (\u001b[32m↘ -0.006\u001b[0m)\n",
            "│   └── Ppyoloeloss/loss = 2.0117\n",
            "│       ├── Epoch N-1      = 2.0376 (\u001b[32m↘ -0.0259\u001b[0m)\n",
            "│       └── Best until now = 2.0376 (\u001b[32m↘ -0.0259\u001b[0m)\n",
            "└── Validation\n",
            "    ├── Ppyoloeloss/loss_cls = 0.9071\n",
            "    │   ├── Epoch N-1      = 0.93   (\u001b[32m↘ -0.0229\u001b[0m)\n",
            "    │   └── Best until now = 0.9075 (\u001b[32m↘ -0.0005\u001b[0m)\n",
            "    ├── Ppyoloeloss/loss_iou = 0.5304\n",
            "    │   ├── Epoch N-1      = 0.5332 (\u001b[32m↘ -0.0028\u001b[0m)\n",
            "    │   └── Best until now = 0.5332 (\u001b[32m↘ -0.0028\u001b[0m)\n",
            "    ├── Ppyoloeloss/loss_dfl = 0.4839\n",
            "    │   ├── Epoch N-1      = 0.4927 (\u001b[32m↘ -0.0088\u001b[0m)\n",
            "    │   └── Best until now = 0.4927 (\u001b[32m↘ -0.0088\u001b[0m)\n",
            "    ├── Ppyoloeloss/loss = 1.9214\n",
            "    │   ├── Epoch N-1      = 1.9558 (\u001b[32m↘ -0.0344\u001b[0m)\n",
            "    │   └── Best until now = 1.9547 (\u001b[32m↘ -0.0333\u001b[0m)\n",
            "    ├── Precision@0.50 = 0.0362\n",
            "    │   ├── Epoch N-1      = 0.0309 (\u001b[32m↗ 0.0054\u001b[0m)\n",
            "    │   └── Best until now = 0.045  (\u001b[31m↘ -0.0088\u001b[0m)\n",
            "    ├── Recall@0.50 = 0.9703\n",
            "    │   ├── Epoch N-1      = 0.9555 (\u001b[32m↗ 0.0148\u001b[0m)\n",
            "    │   └── Best until now = 0.9573 (\u001b[32m↗ 0.013\u001b[0m)\n",
            "    ├── Map@0.50 = 0.8241\n",
            "    │   ├── Epoch N-1      = 0.7721 (\u001b[32m↗ 0.052\u001b[0m)\n",
            "    │   └── Best until now = 0.7721 (\u001b[32m↗ 0.052\u001b[0m)\n",
            "    ├── F1@0.50 = 0.0699\n",
            "    │   ├── Epoch N-1      = 0.0598 (\u001b[32m↗ 0.01\u001b[0m)\n",
            "    │   └── Best until now = 0.0859 (\u001b[31m↘ -0.016\u001b[0m)\n",
            "    └── Best_score_threshold = 0.44\n",
            "        ├── Epoch N-1      = 0.42   (↗ 0.02\u001b[0m)\n",
            "        └── Best until now = 0.04   (↗ 0.4\u001b[0m)\n",
            "\n",
            "===========================================================\n"
          ]
        },
        {
          "output_type": "stream",
          "name": "stderr",
          "text": [
            "Train epoch 12: 100%|██████████| 114/114 [02:38<00:00,  1.39s/it, PPYoloELoss/loss=1.99, PPYoloELoss/loss_cls=0.927, PPYoloELoss/loss_dfl=0.513, PPYoloELoss/loss_iou=0.551, gpu_mem=7.7]\n",
            "Validating epoch 12: 100%|██████████| 9/9 [00:06<00:00,  1.37it/s]\n",
            "[2024-05-12 21:06:30] INFO - base_sg_logger.py - Checkpoint saved in checkpoints2/human_in_thermal_run2/RUN_20240512_202524_167757/ckpt_best.pth\n",
            "[2024-05-12 21:06:30] INFO - sg_trainer.py - Best checkpoint overriden: validation mAP@0.50: 0.8268223404884338\n"
          ]
        },
        {
          "output_type": "stream",
          "name": "stdout",
          "text": [
            "===========================================================\n",
            "SUMMARY OF EPOCH 12\n",
            "├── Train\n",
            "│   ├── Ppyoloeloss/loss_cls = 0.9265\n",
            "│   │   ├── Epoch N-1      = 0.9376 (\u001b[32m↘ -0.0111\u001b[0m)\n",
            "│   │   └── Best until now = 0.9376 (\u001b[32m↘ -0.0111\u001b[0m)\n",
            "│   ├── Ppyoloeloss/loss_iou = 0.5512\n",
            "│   │   ├── Epoch N-1      = 0.5538 (\u001b[32m↘ -0.0027\u001b[0m)\n",
            "│   │   └── Best until now = 0.5538 (\u001b[32m↘ -0.0027\u001b[0m)\n",
            "│   ├── Ppyoloeloss/loss_dfl = 0.5128\n",
            "│   │   ├── Epoch N-1      = 0.5203 (\u001b[32m↘ -0.0075\u001b[0m)\n",
            "│   │   └── Best until now = 0.5203 (\u001b[32m↘ -0.0075\u001b[0m)\n",
            "│   └── Ppyoloeloss/loss = 1.9904\n",
            "│       ├── Epoch N-1      = 2.0117 (\u001b[32m↘ -0.0213\u001b[0m)\n",
            "│       └── Best until now = 2.0117 (\u001b[32m↘ -0.0213\u001b[0m)\n",
            "└── Validation\n",
            "    ├── Ppyoloeloss/loss_cls = 0.9189\n",
            "    │   ├── Epoch N-1      = 0.9071 (\u001b[31m↗ 0.0119\u001b[0m)\n",
            "    │   └── Best until now = 0.9071 (\u001b[31m↗ 0.0119\u001b[0m)\n",
            "    ├── Ppyoloeloss/loss_iou = 0.5324\n",
            "    │   ├── Epoch N-1      = 0.5304 (\u001b[31m↗ 0.002\u001b[0m)\n",
            "    │   └── Best until now = 0.5304 (\u001b[31m↗ 0.002\u001b[0m)\n",
            "    ├── Ppyoloeloss/loss_dfl = 0.4845\n",
            "    │   ├── Epoch N-1      = 0.4839 (\u001b[31m↗ 0.0006\u001b[0m)\n",
            "    │   └── Best until now = 0.4839 (\u001b[31m↗ 0.0006\u001b[0m)\n",
            "    ├── Ppyoloeloss/loss = 1.9358\n",
            "    │   ├── Epoch N-1      = 1.9214 (\u001b[31m↗ 0.0144\u001b[0m)\n",
            "    │   └── Best until now = 1.9214 (\u001b[31m↗ 0.0144\u001b[0m)\n",
            "    ├── Precision@0.50 = 0.0312\n",
            "    │   ├── Epoch N-1      = 0.0362 (\u001b[31m↘ -0.0051\u001b[0m)\n",
            "    │   └── Best until now = 0.045  (\u001b[31m↘ -0.0138\u001b[0m)\n",
            "    ├── Recall@0.50 = 0.9647\n",
            "    │   ├── Epoch N-1      = 0.9703 (\u001b[31m↘ -0.0056\u001b[0m)\n",
            "    │   └── Best until now = 0.9703 (\u001b[31m↘ -0.0056\u001b[0m)\n",
            "    ├── Map@0.50 = 0.8268\n",
            "    │   ├── Epoch N-1      = 0.8241 (\u001b[32m↗ 0.0027\u001b[0m)\n",
            "    │   └── Best until now = 0.8241 (\u001b[32m↗ 0.0027\u001b[0m)\n",
            "    ├── F1@0.50 = 0.0604\n",
            "    │   ├── Epoch N-1      = 0.0699 (\u001b[31m↘ -0.0095\u001b[0m)\n",
            "    │   └── Best until now = 0.0859 (\u001b[31m↘ -0.0255\u001b[0m)\n",
            "    └── Best_score_threshold = 0.44\n",
            "        ├── Epoch N-1      = 0.44   (= 0.0\u001b[0m)\n",
            "        └── Best until now = 0.04   (↗ 0.4\u001b[0m)\n",
            "\n",
            "===========================================================\n"
          ]
        },
        {
          "output_type": "stream",
          "name": "stderr",
          "text": [
            "Train epoch 13: 100%|██████████| 114/114 [02:40<00:00,  1.41s/it, PPYoloELoss/loss=1.98, PPYoloELoss/loss_cls=0.923, PPYoloELoss/loss_dfl=0.509, PPYoloELoss/loss_iou=0.543, gpu_mem=8.02]\n",
            "Validating epoch 13: 100%|██████████| 9/9 [00:04<00:00,  1.96it/s]\n"
          ]
        },
        {
          "output_type": "stream",
          "name": "stdout",
          "text": [
            "===========================================================\n",
            "SUMMARY OF EPOCH 13\n",
            "├── Train\n",
            "│   ├── Ppyoloeloss/loss_cls = 0.9229\n",
            "│   │   ├── Epoch N-1      = 0.9265 (\u001b[32m↘ -0.0036\u001b[0m)\n",
            "│   │   └── Best until now = 0.9265 (\u001b[32m↘ -0.0036\u001b[0m)\n",
            "│   ├── Ppyoloeloss/loss_iou = 0.5429\n",
            "│   │   ├── Epoch N-1      = 0.5512 (\u001b[32m↘ -0.0083\u001b[0m)\n",
            "│   │   └── Best until now = 0.5512 (\u001b[32m↘ -0.0083\u001b[0m)\n",
            "│   ├── Ppyoloeloss/loss_dfl = 0.5093\n",
            "│   │   ├── Epoch N-1      = 0.5128 (\u001b[32m↘ -0.0035\u001b[0m)\n",
            "│   │   └── Best until now = 0.5128 (\u001b[32m↘ -0.0035\u001b[0m)\n",
            "│   └── Ppyoloeloss/loss = 1.9751\n",
            "│       ├── Epoch N-1      = 1.9904 (\u001b[32m↘ -0.0154\u001b[0m)\n",
            "│       └── Best until now = 1.9904 (\u001b[32m↘ -0.0154\u001b[0m)\n",
            "└── Validation\n",
            "    ├── Ppyoloeloss/loss_cls = 0.9013\n",
            "    │   ├── Epoch N-1      = 0.9189 (\u001b[32m↘ -0.0176\u001b[0m)\n",
            "    │   └── Best until now = 0.9071 (\u001b[32m↘ -0.0057\u001b[0m)\n",
            "    ├── Ppyoloeloss/loss_iou = 0.5396\n",
            "    │   ├── Epoch N-1      = 0.5324 (\u001b[31m↗ 0.0072\u001b[0m)\n",
            "    │   └── Best until now = 0.5304 (\u001b[31m↗ 0.0092\u001b[0m)\n",
            "    ├── Ppyoloeloss/loss_dfl = 0.4866\n",
            "    │   ├── Epoch N-1      = 0.4845 (\u001b[31m↗ 0.0022\u001b[0m)\n",
            "    │   └── Best until now = 0.4839 (\u001b[31m↗ 0.0027\u001b[0m)\n",
            "    ├── Ppyoloeloss/loss = 1.9276\n",
            "    │   ├── Epoch N-1      = 1.9358 (\u001b[32m↘ -0.0082\u001b[0m)\n",
            "    │   └── Best until now = 1.9214 (\u001b[31m↗ 0.0062\u001b[0m)\n",
            "    ├── Precision@0.50 = 0.0391\n",
            "    │   ├── Epoch N-1      = 0.0312 (\u001b[32m↗ 0.008\u001b[0m)\n",
            "    │   └── Best until now = 0.045  (\u001b[31m↘ -0.0059\u001b[0m)\n",
            "    ├── Recall@0.50 = 0.9685\n",
            "    │   ├── Epoch N-1      = 0.9647 (\u001b[32m↗ 0.0037\u001b[0m)\n",
            "    │   └── Best until now = 0.9703 (\u001b[31m↘ -0.0019\u001b[0m)\n",
            "    ├── Map@0.50 = 0.8126\n",
            "    │   ├── Epoch N-1      = 0.8268 (\u001b[31m↘ -0.0143\u001b[0m)\n",
            "    │   └── Best until now = 0.8268 (\u001b[31m↘ -0.0143\u001b[0m)\n",
            "    ├── F1@0.50 = 0.0752\n",
            "    │   ├── Epoch N-1      = 0.0604 (\u001b[32m↗ 0.0148\u001b[0m)\n",
            "    │   └── Best until now = 0.0859 (\u001b[31m↘ -0.0107\u001b[0m)\n",
            "    └── Best_score_threshold = 0.48\n",
            "        ├── Epoch N-1      = 0.44   (↗ 0.04\u001b[0m)\n",
            "        └── Best until now = 0.04   (↗ 0.44\u001b[0m)\n",
            "\n",
            "===========================================================\n"
          ]
        },
        {
          "output_type": "stream",
          "name": "stderr",
          "text": [
            "Train epoch 14: 100%|██████████| 114/114 [02:43<00:00,  1.43s/it, PPYoloELoss/loss=1.97, PPYoloELoss/loss_cls=0.918, PPYoloELoss/loss_dfl=0.506, PPYoloELoss/loss_iou=0.543, gpu_mem=7.08]\n",
            "Validating epoch 14: 100%|██████████| 9/9 [00:04<00:00,  1.93it/s]\n"
          ]
        },
        {
          "output_type": "stream",
          "name": "stdout",
          "text": [
            "===========================================================\n",
            "SUMMARY OF EPOCH 14\n",
            "├── Train\n",
            "│   ├── Ppyoloeloss/loss_cls = 0.9183\n",
            "│   │   ├── Epoch N-1      = 0.9229 (\u001b[32m↘ -0.0046\u001b[0m)\n",
            "│   │   └── Best until now = 0.9229 (\u001b[32m↘ -0.0046\u001b[0m)\n",
            "│   ├── Ppyoloeloss/loss_iou = 0.543\n",
            "│   │   ├── Epoch N-1      = 0.5429 (\u001b[31m↗ 1e-04\u001b[0m)\n",
            "│   │   └── Best until now = 0.5429 (\u001b[31m↗ 1e-04\u001b[0m)\n",
            "│   ├── Ppyoloeloss/loss_dfl = 0.5055\n",
            "│   │   ├── Epoch N-1      = 0.5093 (\u001b[32m↘ -0.0038\u001b[0m)\n",
            "│   │   └── Best until now = 0.5093 (\u001b[32m↘ -0.0038\u001b[0m)\n",
            "│   └── Ppyoloeloss/loss = 1.9668\n",
            "│       ├── Epoch N-1      = 1.9751 (\u001b[32m↘ -0.0083\u001b[0m)\n",
            "│       └── Best until now = 1.9751 (\u001b[32m↘ -0.0083\u001b[0m)\n",
            "└── Validation\n",
            "    ├── Ppyoloeloss/loss_cls = 0.911\n",
            "    │   ├── Epoch N-1      = 0.9013 (\u001b[31m↗ 0.0097\u001b[0m)\n",
            "    │   └── Best until now = 0.9013 (\u001b[31m↗ 0.0097\u001b[0m)\n",
            "    ├── Ppyoloeloss/loss_iou = 0.5248\n",
            "    │   ├── Epoch N-1      = 0.5396 (\u001b[32m↘ -0.0149\u001b[0m)\n",
            "    │   └── Best until now = 0.5304 (\u001b[32m↘ -0.0057\u001b[0m)\n",
            "    ├── Ppyoloeloss/loss_dfl = 0.4775\n",
            "    │   ├── Epoch N-1      = 0.4866 (\u001b[32m↘ -0.0091\u001b[0m)\n",
            "    │   └── Best until now = 0.4839 (\u001b[32m↘ -0.0064\u001b[0m)\n",
            "    ├── Ppyoloeloss/loss = 1.9133\n",
            "    │   ├── Epoch N-1      = 1.9276 (\u001b[32m↘ -0.0143\u001b[0m)\n",
            "    │   └── Best until now = 1.9214 (\u001b[32m↘ -0.0081\u001b[0m)\n",
            "    ├── Precision@0.50 = 0.0338\n",
            "    │   ├── Epoch N-1      = 0.0391 (\u001b[31m↘ -0.0053\u001b[0m)\n",
            "    │   └── Best until now = 0.045  (\u001b[31m↘ -0.0111\u001b[0m)\n",
            "    ├── Recall@0.50 = 0.9722\n",
            "    │   ├── Epoch N-1      = 0.9685 (\u001b[32m↗ 0.0037\u001b[0m)\n",
            "    │   └── Best until now = 0.9703 (\u001b[32m↗ 0.0019\u001b[0m)\n",
            "    ├── Map@0.50 = 0.8167\n",
            "    │   ├── Epoch N-1      = 0.8126 (\u001b[32m↗ 0.0042\u001b[0m)\n",
            "    │   └── Best until now = 0.8268 (\u001b[31m↘ -0.0101\u001b[0m)\n",
            "    ├── F1@0.50 = 0.0654\n",
            "    │   ├── Epoch N-1      = 0.0752 (\u001b[31m↘ -0.0098\u001b[0m)\n",
            "    │   └── Best until now = 0.0859 (\u001b[31m↘ -0.0205\u001b[0m)\n",
            "    └── Best_score_threshold = 0.46\n",
            "        ├── Epoch N-1      = 0.48   (↘ -0.02\u001b[0m)\n",
            "        └── Best until now = 0.04   (↗ 0.42\u001b[0m)\n",
            "\n",
            "===========================================================\n"
          ]
        },
        {
          "output_type": "stream",
          "name": "stderr",
          "text": [
            "Train epoch 15: 100%|██████████| 114/114 [02:43<00:00,  1.44s/it, PPYoloELoss/loss=1.94, PPYoloELoss/loss_cls=0.91, PPYoloELoss/loss_dfl=0.496, PPYoloELoss/loss_iou=0.531, gpu_mem=9.25]\n",
            "Validating epoch 15: 100%|██████████| 9/9 [00:05<00:00,  1.64it/s]\n",
            "[2024-05-12 21:16:22] INFO - base_sg_logger.py - Checkpoint saved in checkpoints2/human_in_thermal_run2/RUN_20240512_202524_167757/ckpt_best.pth\n",
            "[2024-05-12 21:16:22] INFO - sg_trainer.py - Best checkpoint overriden: validation mAP@0.50: 0.8324006795883179\n"
          ]
        },
        {
          "output_type": "stream",
          "name": "stdout",
          "text": [
            "===========================================================\n",
            "SUMMARY OF EPOCH 15\n",
            "├── Train\n",
            "│   ├── Ppyoloeloss/loss_cls = 0.9098\n",
            "│   │   ├── Epoch N-1      = 0.9183 (\u001b[32m↘ -0.0085\u001b[0m)\n",
            "│   │   └── Best until now = 0.9183 (\u001b[32m↘ -0.0085\u001b[0m)\n",
            "│   ├── Ppyoloeloss/loss_iou = 0.5314\n",
            "│   │   ├── Epoch N-1      = 0.543  (\u001b[32m↘ -0.0116\u001b[0m)\n",
            "│   │   └── Best until now = 0.5429 (\u001b[32m↘ -0.0115\u001b[0m)\n",
            "│   ├── Ppyoloeloss/loss_dfl = 0.4965\n",
            "│   │   ├── Epoch N-1      = 0.5055 (\u001b[32m↘ -0.009\u001b[0m)\n",
            "│   │   └── Best until now = 0.5055 (\u001b[32m↘ -0.009\u001b[0m)\n",
            "│   └── Ppyoloeloss/loss = 1.9377\n",
            "│       ├── Epoch N-1      = 1.9668 (\u001b[32m↘ -0.0291\u001b[0m)\n",
            "│       └── Best until now = 1.9668 (\u001b[32m↘ -0.0291\u001b[0m)\n",
            "└── Validation\n",
            "    ├── Ppyoloeloss/loss_cls = 0.8749\n",
            "    │   ├── Epoch N-1      = 0.911  (\u001b[32m↘ -0.0361\u001b[0m)\n",
            "    │   └── Best until now = 0.9013 (\u001b[32m↘ -0.0264\u001b[0m)\n",
            "    ├── Ppyoloeloss/loss_iou = 0.5295\n",
            "    │   ├── Epoch N-1      = 0.5248 (\u001b[31m↗ 0.0048\u001b[0m)\n",
            "    │   └── Best until now = 0.5248 (\u001b[31m↗ 0.0048\u001b[0m)\n",
            "    ├── Ppyoloeloss/loss_dfl = 0.4798\n",
            "    │   ├── Epoch N-1      = 0.4775 (\u001b[31m↗ 0.0023\u001b[0m)\n",
            "    │   └── Best until now = 0.4775 (\u001b[31m↗ 0.0023\u001b[0m)\n",
            "    ├── Ppyoloeloss/loss = 1.8843\n",
            "    │   ├── Epoch N-1      = 1.9133 (\u001b[32m↘ -0.029\u001b[0m)\n",
            "    │   └── Best until now = 1.9133 (\u001b[32m↘ -0.029\u001b[0m)\n",
            "    ├── Precision@0.50 = 0.0421\n",
            "    │   ├── Epoch N-1      = 0.0338 (\u001b[32m↗ 0.0082\u001b[0m)\n",
            "    │   └── Best until now = 0.045  (\u001b[31m↘ -0.0029\u001b[0m)\n",
            "    ├── Recall@0.50 = 0.9685\n",
            "    │   ├── Epoch N-1      = 0.9722 (\u001b[31m↘ -0.0037\u001b[0m)\n",
            "    │   └── Best until now = 0.9722 (\u001b[31m↘ -0.0037\u001b[0m)\n",
            "    ├── Map@0.50 = 0.8324\n",
            "    │   ├── Epoch N-1      = 0.8167 (\u001b[32m↗ 0.0157\u001b[0m)\n",
            "    │   └── Best until now = 0.8268 (\u001b[32m↗ 0.0056\u001b[0m)\n",
            "    ├── F1@0.50 = 0.0806\n",
            "    │   ├── Epoch N-1      = 0.0654 (\u001b[32m↗ 0.0152\u001b[0m)\n",
            "    │   └── Best until now = 0.0859 (\u001b[31m↘ -0.0052\u001b[0m)\n",
            "    └── Best_score_threshold = 0.48\n",
            "        ├── Epoch N-1      = 0.46   (↗ 0.02\u001b[0m)\n",
            "        └── Best until now = 0.04   (↗ 0.44\u001b[0m)\n",
            "\n",
            "===========================================================\n"
          ]
        },
        {
          "output_type": "stream",
          "name": "stderr",
          "text": [
            "[2024-05-12 21:16:44] INFO - sg_trainer.py - RUNNING ADDITIONAL TEST ON THE AVERAGED MODEL...\n",
            "Validating epoch 16: 100%|██████████| 9/9 [00:07<00:00,  1.26it/s]\n"
          ]
        }
      ]
    },
    {
      "cell_type": "code",
      "source": [
        "best_model = models.get('yolo_nas_s',\n",
        "                        num_classes=len(dataset_params['classes']),\n",
        "                        checkpoint_path=\"/content/checkpoints2/human_in_thermal_run2/RUN_20240512_202524_167757/ckpt_best.pth\")"
      ],
      "metadata": {
        "id": "nQhKp2h5E5nX",
        "colab": {
          "base_uri": "https://localhost:8080/"
        },
        "outputId": "55a5c202-30e2-4f30-ad4d-3b394ad73e17"
      },
      "execution_count": 12,
      "outputs": [
        {
          "output_type": "stream",
          "name": "stdout",
          "text": [
            "2024-05-12 21:19:43,315 - clearml.model - INFO - Selected model id: a0961033eb8046e8ac2d25359caeae68\n",
            "2024-05-12 21:19:46,509 - clearml.model - WARNING - Connecting multiple input models with the same name: `ckpt_best`. This might result in the wrong model being used when executing remotely\n"
          ]
        }
      ]
    },
    {
      "cell_type": "code",
      "source": [
        "# Validation\n",
        "trainer.test(model=best_model,\n",
        "            test_loader=val_data,\n",
        "            test_metrics_list=DetectionMetrics_050(score_thres=0.1,\n",
        "                                                   top_k_predictions=300,\n",
        "                                                   num_cls=len(dataset_params['classes']),\n",
        "                                                   normalize_targets=True,\n",
        "                                                   post_prediction_callback=PPYoloEPostPredictionCallback(score_threshold=0.01,\n",
        "                                                                                                          nms_top_k=1000,\n",
        "                                                                                                          max_predictions=300,\n",
        "                                                                                                          nms_threshold=0.7)\n",
        "                                                  ))"
      ],
      "metadata": {
        "id": "gqasN7KkE8Cf",
        "colab": {
          "base_uri": "https://localhost:8080/"
        },
        "outputId": "e3800a24-a013-459e-daac-7c704ce260cd"
      },
      "execution_count": 13,
      "outputs": [
        {
          "output_type": "stream",
          "name": "stderr",
          "text": [
            "Testing:  89%|████████▉ | 8/9 [00:05<00:00,  1.86it/s]"
          ]
        },
        {
          "output_type": "execute_result",
          "data": {
            "text/plain": [
              "{'PPYoloELoss/loss_cls': 0.87493503,\n",
              " 'PPYoloELoss/loss_iou': 0.52952635,\n",
              " 'PPYoloELoss/loss_dfl': 0.4798191,\n",
              " 'PPYoloELoss/loss': 1.8842803,\n",
              " 'Precision@0.50': 0.042076416313648224,\n",
              " 'Recall@0.50': 0.9684600830078125,\n",
              " 'mAP@0.50': 0.8324006795883179,\n",
              " 'F1@0.50': 0.08064889907836914,\n",
              " 'Best_score_threshold': 0.47999998927116394}"
            ]
          },
          "metadata": {},
          "execution_count": 13
        },
        {
          "output_type": "stream",
          "name": "stderr",
          "text": [
            "\rTesting: 100%|██████████| 9/9 [00:05<00:00,  2.03it/s]\rTesting: 100%|██████████| 9/9 [00:06<00:00,  1.48it/s]\n"
          ]
        }
      ]
    },
    {
      "cell_type": "code",
      "source": [
        "# Testing\n",
        "trainer.test(model=best_model,\n",
        "            test_loader=test_data,\n",
        "            test_metrics_list=DetectionMetrics_050(score_thres=0.1,\n",
        "                                                   top_k_predictions=300,\n",
        "                                                   num_cls=len(dataset_params['classes']),\n",
        "                                                   normalize_targets=True,\n",
        "                                                   post_prediction_callback=PPYoloEPostPredictionCallback(score_threshold=0.01,\n",
        "                                                                                                          nms_top_k=1000,\n",
        "                                                                                                          max_predictions=300,\n",
        "                                                                                                          nms_threshold=0.7)\n",
        "                                                  ))"
      ],
      "metadata": {
        "id": "dS4D2AZAE7LR",
        "colab": {
          "base_uri": "https://localhost:8080/"
        },
        "outputId": "251b54de-cdb2-4c85-ce48-b3a4bc9962d4"
      },
      "execution_count": 14,
      "outputs": [
        {
          "output_type": "stream",
          "name": "stderr",
          "text": [
            "Testing:  80%|████████  | 4/5 [00:08<00:01,  1.38s/it]"
          ]
        },
        {
          "output_type": "execute_result",
          "data": {
            "text/plain": [
              "{'PPYoloELoss/loss_cls': 0.8935924,\n",
              " 'PPYoloELoss/loss_iou': 0.5336044,\n",
              " 'PPYoloELoss/loss_dfl': 0.48779905,\n",
              " 'PPYoloELoss/loss': 1.9149954,\n",
              " 'Precision@0.50': 0.04032000154256821,\n",
              " 'Recall@0.50': 0.9545454382896423,\n",
              " 'mAP@0.50': 0.794327437877655,\n",
              " 'F1@0.50': 0.07737182080745697,\n",
              " 'Best_score_threshold': 0.4599999785423279}"
            ]
          },
          "metadata": {},
          "execution_count": 14
        }
      ]
    },
    {
      "cell_type": "code",
      "source": [
        "import shutil\n",
        "import os\n",
        "import zipfile\n",
        "directory_to_zip = '/content/checkpoints2/'\n",
        "zip_file_path = '/content/YOLO_NAS_N.zip'\n",
        "with zipfile.ZipFile(zip_file_path, 'w', zipfile.ZIP_DEFLATED) as zipf:\n",
        "    for root, dirs, files in os.walk(directory_to_zip):\n",
        "        for file in files:\n",
        "            zipf.write(os.path.join(root, file), os.path.relpath(os.path.join(root, file), directory_to_zip))"
      ],
      "metadata": {
        "id": "F27Q0QpLJ1N2"
      },
      "execution_count": 15,
      "outputs": []
    },
    {
      "cell_type": "code",
      "source": [
        "import locale\n",
        "print(locale.getpreferredencoding())"
      ],
      "metadata": {
        "id": "r36XaYfvJ6_C",
        "colab": {
          "base_uri": "https://localhost:8080/"
        },
        "outputId": "97d98a22-244b-45aa-ffc7-b978b43a1c1c"
      },
      "execution_count": 16,
      "outputs": [
        {
          "output_type": "stream",
          "name": "stdout",
          "text": [
            "UTF-8\n"
          ]
        }
      ]
    },
    {
      "cell_type": "code",
      "source": [
        "import locale\n",
        "def getpreferredencoding(do_setlocale = True):\n",
        "    return \"UTF-8\"\n",
        "locale.getpreferredencoding = getpreferredencoding"
      ],
      "metadata": {
        "id": "PqeY23ZHJ8YK"
      },
      "execution_count": 17,
      "outputs": []
    },
    {
      "cell_type": "code",
      "source": [
        "!pip install google-api-python-client\n",
        "from google.colab import auth\n",
        "from googleapiclient.discovery import build\n",
        "from googleapiclient.http import MediaFileUpload\n",
        "\n",
        "\n",
        "auth.authenticate_user()"
      ],
      "metadata": {
        "id": "4ov8arQZJ-NE",
        "colab": {
          "base_uri": "https://localhost:8080/"
        },
        "outputId": "f806b2e5-e736-4af3-8921-01789deca9bd"
      },
      "execution_count": 18,
      "outputs": [
        {
          "output_type": "stream",
          "name": "stdout",
          "text": [
            "Requirement already satisfied: google-api-python-client in /usr/local/lib/python3.10/dist-packages (2.84.0)\n",
            "Requirement already satisfied: httplib2<1dev,>=0.15.0 in /usr/local/lib/python3.10/dist-packages (from google-api-python-client) (0.22.0)\n",
            "Requirement already satisfied: google-auth<3.0.0dev,>=1.19.0 in /usr/local/lib/python3.10/dist-packages (from google-api-python-client) (2.27.0)\n",
            "Requirement already satisfied: google-auth-httplib2>=0.1.0 in /usr/local/lib/python3.10/dist-packages (from google-api-python-client) (0.1.1)\n",
            "Requirement already satisfied: google-api-core!=2.0.*,!=2.1.*,!=2.2.*,!=2.3.0,<3.0.0dev,>=1.31.5 in /usr/local/lib/python3.10/dist-packages (from google-api-python-client) (2.11.1)\n",
            "Requirement already satisfied: uritemplate<5,>=3.0.1 in /usr/local/lib/python3.10/dist-packages (from google-api-python-client) (4.1.1)\n",
            "Requirement already satisfied: googleapis-common-protos<2.0.dev0,>=1.56.2 in /usr/local/lib/python3.10/dist-packages (from google-api-core!=2.0.*,!=2.1.*,!=2.2.*,!=2.3.0,<3.0.0dev,>=1.31.5->google-api-python-client) (1.63.0)\n",
            "Requirement already satisfied: protobuf!=3.20.0,!=3.20.1,!=4.21.0,!=4.21.1,!=4.21.2,!=4.21.3,!=4.21.4,!=4.21.5,<5.0.0.dev0,>=3.19.5 in /usr/local/lib/python3.10/dist-packages (from google-api-core!=2.0.*,!=2.1.*,!=2.2.*,!=2.3.0,<3.0.0dev,>=1.31.5->google-api-python-client) (3.20.3)\n",
            "Requirement already satisfied: requests<3.0.0.dev0,>=2.18.0 in /usr/local/lib/python3.10/dist-packages (from google-api-core!=2.0.*,!=2.1.*,!=2.2.*,!=2.3.0,<3.0.0dev,>=1.31.5->google-api-python-client) (2.31.0)\n",
            "Requirement already satisfied: cachetools<6.0,>=2.0.0 in /usr/local/lib/python3.10/dist-packages (from google-auth<3.0.0dev,>=1.19.0->google-api-python-client) (5.3.3)\n",
            "Requirement already satisfied: pyasn1-modules>=0.2.1 in /usr/local/lib/python3.10/dist-packages (from google-auth<3.0.0dev,>=1.19.0->google-api-python-client) (0.4.0)\n",
            "Requirement already satisfied: rsa<5,>=3.1.4 in /usr/local/lib/python3.10/dist-packages (from google-auth<3.0.0dev,>=1.19.0->google-api-python-client) (4.9)\n",
            "Requirement already satisfied: pyparsing!=3.0.0,!=3.0.1,!=3.0.2,!=3.0.3,<4,>=2.4.2 in /usr/local/lib/python3.10/dist-packages (from httplib2<1dev,>=0.15.0->google-api-python-client) (3.1.2)\n",
            "Requirement already satisfied: pyasn1<0.7.0,>=0.4.6 in /usr/local/lib/python3.10/dist-packages (from pyasn1-modules>=0.2.1->google-auth<3.0.0dev,>=1.19.0->google-api-python-client) (0.6.0)\n",
            "Requirement already satisfied: charset-normalizer<4,>=2 in /usr/local/lib/python3.10/dist-packages (from requests<3.0.0.dev0,>=2.18.0->google-api-core!=2.0.*,!=2.1.*,!=2.2.*,!=2.3.0,<3.0.0dev,>=1.31.5->google-api-python-client) (3.3.2)\n",
            "Requirement already satisfied: idna<4,>=2.5 in /usr/local/lib/python3.10/dist-packages (from requests<3.0.0.dev0,>=2.18.0->google-api-core!=2.0.*,!=2.1.*,!=2.2.*,!=2.3.0,<3.0.0dev,>=1.31.5->google-api-python-client) (2.10)\n",
            "Requirement already satisfied: urllib3<3,>=1.21.1 in /usr/local/lib/python3.10/dist-packages (from requests<3.0.0.dev0,>=2.18.0->google-api-core!=2.0.*,!=2.1.*,!=2.2.*,!=2.3.0,<3.0.0dev,>=1.31.5->google-api-python-client) (2.0.7)\n",
            "Requirement already satisfied: certifi>=2017.4.17 in /usr/local/lib/python3.10/dist-packages (from requests<3.0.0.dev0,>=2.18.0->google-api-core!=2.0.*,!=2.1.*,!=2.2.*,!=2.3.0,<3.0.0dev,>=1.31.5->google-api-python-client) (2023.7.22)\n"
          ]
        },
        {
          "output_type": "stream",
          "name": "stderr",
          "text": [
            "[2024-05-12 21:21:13] WARNING - _default.py - No project ID could be determined. Consider running `gcloud config set project` or setting the GOOGLE_CLOUD_PROJECT environment variable\n",
            "[2024-05-12 21:21:13] WARNING - _default.py - No project ID could be determined. Consider running `gcloud config set project` or setting the GOOGLE_CLOUD_PROJECT environment variable\n",
            "[2024-05-12 21:21:29] WARNING - _default.py - No project ID could be determined. Consider running `gcloud config set project` or setting the GOOGLE_CLOUD_PROJECT environment variable\n"
          ]
        }
      ]
    },
    {
      "cell_type": "code",
      "source": [
        "drive_service = build('drive', 'v3')"
      ],
      "metadata": {
        "id": "iDudH8L6J_mL"
      },
      "execution_count": 19,
      "outputs": []
    },
    {
      "cell_type": "code",
      "source": [
        "file_metadata = {'name': 'YOLO_NAS_N.zip'}\n",
        "media = MediaFileUpload(zip_file_path, resumable=True)\n",
        "file = drive_service.files().create(body=file_metadata, media_body=media, fields='id').execute()\n",
        "print(f\"Uploaded '{zip_file_path}' to Google Drive with ID: {file.get('id')}\")"
      ],
      "metadata": {
        "id": "pTwun2KiKBS0",
        "colab": {
          "base_uri": "https://localhost:8080/"
        },
        "outputId": "164a7eec-add7-44b8-9115-f3fee180c16d"
      },
      "execution_count": 20,
      "outputs": [
        {
          "output_type": "stream",
          "name": "stdout",
          "text": [
            "Uploaded '/content/YOLO_NAS_N.zip' to Google Drive with ID: 16AOrStKa5G6NxAKD-6idOPBJ8X2q9JgK\n"
          ]
        }
      ]
    },
    {
      "cell_type": "code",
      "source": [],
      "metadata": {
        "id": "zZ1xEs3kruqC"
      },
      "execution_count": null,
      "outputs": []
    }
  ]
}